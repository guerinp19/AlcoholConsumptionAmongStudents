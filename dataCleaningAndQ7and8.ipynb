
  {
   "cell_type": "code",
   "execution_count": 91,
   "id": "b17453b8",
   "metadata": {},
   "outputs": [],
   "source": [
    "import csv\n",
    "import re\n",
    "import pandas as pd\n",
    "from functools import reduce\n",
    "import numpy as np\n",
    "import calendar\n",
    "import string\n",
    "import matplotlib.pyplot as plt\n",
    "import seaborn as sns\n",
    "\n",
    "def open_csv(file_name):\n",
    "    collection = []\n",
    "    with open(file_name, 'r') as f:\n",
    "        for line in csv.DictReader(f):\n",
    "            collection.append(line)\n",
    "        return collection\n",
    "    \n",
    "students_math = open_csv('student-mat.csv')\n",
    "students_por = open_csv('student-por.csv')"
   ]
  },
  {
   "cell_type": "markdown",
   "id": "3b65822e",
   "metadata": {},
   "source": [
    "**Data Cleaning**\n",
    "\n",
    "1.) combine both tables to make the data easier to work with\n",
    "\n",
    "2.) parse any numbers represented as strings to ints (i.e., goout is represented as a string so we should parse it to a int)\n",
    "\n",
    "3.) get rid of any unreadable data points (i.e., any NA values)\n",
    "\n",
    "4.) drop any students that appear in both data sets (there is a note at the bottom of the dataset link to the dataset that explain how to determine how a student is in both datasets)"
   ]
  },
  {
   "cell_type": "code",
   "execution_count": 92,
   "id": "d736068e",
   "metadata": {},
   "outputs": [
    {
     "data": {
      "text/html": [
       "<div>\n",
       "<style scoped>\n",
       "    .dataframe tbody tr th:only-of-type {\n",
       "        vertical-align: middle;\n",
       "    }\n",
       "\n",
       "    .dataframe tbody tr th {\n",
       "        vertical-align: top;\n",
       "    }\n",
       "\n",
       "    .dataframe thead th {\n",
       "        text-align: right;\n",
       "    }\n",
       "</style>\n",
       "<table border=\"1\" class=\"dataframe\">\n",
       "  <thead>\n",
       "    <tr style=\"text-align: right;\">\n",
       "      <th></th>\n",
       "      <th>school</th>\n",
       "      <th>sex</th>\n",
       "      <th>age</th>\n",
       "      <th>address</th>\n",
       "      <th>famsize</th>\n",
       "      <th>Pstatus</th>\n",
       "      <th>Medu</th>\n",
       "      <th>Fedu</th>\n",
       "      <th>Mjob</th>\n",
       "      <th>Fjob</th>\n",
       "      <th>...</th>\n",
       "      <th>famrel</th>\n",
       "      <th>freetime</th>\n",
       "      <th>goout</th>\n",
       "      <th>Dalc</th>\n",
       "      <th>Walc</th>\n",
       "      <th>health</th>\n",
       "      <th>absences</th>\n",
       "      <th>G1</th>\n",
       "      <th>G2</th>\n",
       "      <th>G3</th>\n",
       "    </tr>\n",
       "  </thead>\n",
       "  <tbody>\n",
       "    <tr>\n",
       "      <th>0</th>\n",
       "      <td>GP</td>\n",
       "      <td>F</td>\n",
       "      <td>18</td>\n",
       "      <td>U</td>\n",
       "      <td>GT3</td>\n",
       "      <td>A</td>\n",
       "      <td>4</td>\n",
       "      <td>4</td>\n",
       "      <td>at_home</td>\n",
       "      <td>teacher</td>\n",
       "      <td>...</td>\n",
       "      <td>4</td>\n",
       "      <td>3</td>\n",
       "      <td>4</td>\n",
       "      <td>1</td>\n",
       "      <td>1</td>\n",
       "      <td>3</td>\n",
       "      <td>4</td>\n",
       "      <td>0</td>\n",
       "      <td>11</td>\n",
       "      <td>11</td>\n",
       "    </tr>\n",
       "    <tr>\n",
       "      <th>1</th>\n",
       "      <td>GP</td>\n",
       "      <td>F</td>\n",
       "      <td>17</td>\n",
       "      <td>U</td>\n",
       "      <td>GT3</td>\n",
       "      <td>T</td>\n",
       "      <td>1</td>\n",
       "      <td>1</td>\n",
       "      <td>at_home</td>\n",
       "      <td>other</td>\n",
       "      <td>...</td>\n",
       "      <td>5</td>\n",
       "      <td>3</td>\n",
       "      <td>3</td>\n",
       "      <td>1</td>\n",
       "      <td>1</td>\n",
       "      <td>3</td>\n",
       "      <td>2</td>\n",
       "      <td>9</td>\n",
       "      <td>11</td>\n",
       "      <td>11</td>\n",
       "    </tr>\n",
       "    <tr>\n",
       "      <th>2</th>\n",
       "      <td>GP</td>\n",
       "      <td>F</td>\n",
       "      <td>15</td>\n",
       "      <td>U</td>\n",
       "      <td>LE3</td>\n",
       "      <td>T</td>\n",
       "      <td>1</td>\n",
       "      <td>1</td>\n",
       "      <td>at_home</td>\n",
       "      <td>other</td>\n",
       "      <td>...</td>\n",
       "      <td>4</td>\n",
       "      <td>3</td>\n",
       "      <td>2</td>\n",
       "      <td>2</td>\n",
       "      <td>3</td>\n",
       "      <td>3</td>\n",
       "      <td>6</td>\n",
       "      <td>12</td>\n",
       "      <td>13</td>\n",
       "      <td>12</td>\n",
       "    </tr>\n",
       "    <tr>\n",
       "      <th>3</th>\n",
       "      <td>GP</td>\n",
       "      <td>F</td>\n",
       "      <td>15</td>\n",
       "      <td>U</td>\n",
       "      <td>GT3</td>\n",
       "      <td>T</td>\n",
       "      <td>4</td>\n",
       "      <td>2</td>\n",
       "      <td>health</td>\n",
       "      <td>services</td>\n",
       "      <td>...</td>\n",
       "      <td>3</td>\n",
       "      <td>2</td>\n",
       "      <td>2</td>\n",
       "      <td>1</td>\n",
       "      <td>1</td>\n",
       "      <td>5</td>\n",
       "      <td>0</td>\n",
       "      <td>14</td>\n",
       "      <td>14</td>\n",
       "      <td>14</td>\n",
       "    </tr>\n",
       "    <tr>\n",
       "      <th>4</th>\n",
       "      <td>GP</td>\n",
       "      <td>F</td>\n",
       "      <td>16</td>\n",
       "      <td>U</td>\n",
       "      <td>GT3</td>\n",
       "      <td>T</td>\n",
       "      <td>3</td>\n",
       "      <td>3</td>\n",
       "      <td>other</td>\n",
       "      <td>other</td>\n",
       "      <td>...</td>\n",
       "      <td>4</td>\n",
       "      <td>3</td>\n",
       "      <td>2</td>\n",
       "      <td>1</td>\n",
       "      <td>2</td>\n",
       "      <td>5</td>\n",
       "      <td>0</td>\n",
       "      <td>11</td>\n",
       "      <td>13</td>\n",
       "      <td>13</td>\n",
       "    </tr>\n",
       "    <tr>\n",
       "      <th>...</th>\n",
       "      <td>...</td>\n",
       "      <td>...</td>\n",
       "      <td>...</td>\n",
       "      <td>...</td>\n",
       "      <td>...</td>\n",
       "      <td>...</td>\n",
       "      <td>...</td>\n",
       "      <td>...</td>\n",
       "      <td>...</td>\n",
       "      <td>...</td>\n",
       "      <td>...</td>\n",
       "      <td>...</td>\n",
       "      <td>...</td>\n",
       "      <td>...</td>\n",
       "      <td>...</td>\n",
       "      <td>...</td>\n",
       "      <td>...</td>\n",
       "      <td>...</td>\n",
       "      <td>...</td>\n",
       "      <td>...</td>\n",
       "      <td>...</td>\n",
       "    </tr>\n",
       "    <tr>\n",
       "      <th>657</th>\n",
       "      <td>MS</td>\n",
       "      <td>F</td>\n",
       "      <td>19</td>\n",
       "      <td>U</td>\n",
       "      <td>LE3</td>\n",
       "      <td>T</td>\n",
       "      <td>3</td>\n",
       "      <td>2</td>\n",
       "      <td>services</td>\n",
       "      <td>services</td>\n",
       "      <td>...</td>\n",
       "      <td>3</td>\n",
       "      <td>2</td>\n",
       "      <td>2</td>\n",
       "      <td>1</td>\n",
       "      <td>1</td>\n",
       "      <td>3</td>\n",
       "      <td>4</td>\n",
       "      <td>7</td>\n",
       "      <td>7</td>\n",
       "      <td>9</td>\n",
       "    </tr>\n",
       "    <tr>\n",
       "      <th>658</th>\n",
       "      <td>MS</td>\n",
       "      <td>F</td>\n",
       "      <td>20</td>\n",
       "      <td>U</td>\n",
       "      <td>GT3</td>\n",
       "      <td>T</td>\n",
       "      <td>4</td>\n",
       "      <td>2</td>\n",
       "      <td>health</td>\n",
       "      <td>other</td>\n",
       "      <td>...</td>\n",
       "      <td>5</td>\n",
       "      <td>4</td>\n",
       "      <td>3</td>\n",
       "      <td>1</td>\n",
       "      <td>1</td>\n",
       "      <td>3</td>\n",
       "      <td>4</td>\n",
       "      <td>15</td>\n",
       "      <td>14</td>\n",
       "      <td>15</td>\n",
       "    </tr>\n",
       "    <tr>\n",
       "      <th>659</th>\n",
       "      <td>MS</td>\n",
       "      <td>M</td>\n",
       "      <td>20</td>\n",
       "      <td>U</td>\n",
       "      <td>LE3</td>\n",
       "      <td>A</td>\n",
       "      <td>2</td>\n",
       "      <td>2</td>\n",
       "      <td>services</td>\n",
       "      <td>services</td>\n",
       "      <td>...</td>\n",
       "      <td>5</td>\n",
       "      <td>5</td>\n",
       "      <td>4</td>\n",
       "      <td>4</td>\n",
       "      <td>5</td>\n",
       "      <td>4</td>\n",
       "      <td>11</td>\n",
       "      <td>9</td>\n",
       "      <td>9</td>\n",
       "      <td>9</td>\n",
       "    </tr>\n",
       "    <tr>\n",
       "      <th>660</th>\n",
       "      <td>MS</td>\n",
       "      <td>M</td>\n",
       "      <td>21</td>\n",
       "      <td>R</td>\n",
       "      <td>GT3</td>\n",
       "      <td>T</td>\n",
       "      <td>1</td>\n",
       "      <td>1</td>\n",
       "      <td>other</td>\n",
       "      <td>other</td>\n",
       "      <td>...</td>\n",
       "      <td>5</td>\n",
       "      <td>5</td>\n",
       "      <td>3</td>\n",
       "      <td>3</td>\n",
       "      <td>3</td>\n",
       "      <td>3</td>\n",
       "      <td>3</td>\n",
       "      <td>10</td>\n",
       "      <td>8</td>\n",
       "      <td>7</td>\n",
       "    </tr>\n",
       "    <tr>\n",
       "      <th>661</th>\n",
       "      <td>MS</td>\n",
       "      <td>M</td>\n",
       "      <td>19</td>\n",
       "      <td>U</td>\n",
       "      <td>LE3</td>\n",
       "      <td>T</td>\n",
       "      <td>1</td>\n",
       "      <td>1</td>\n",
       "      <td>other</td>\n",
       "      <td>at_home</td>\n",
       "      <td>...</td>\n",
       "      <td>3</td>\n",
       "      <td>2</td>\n",
       "      <td>3</td>\n",
       "      <td>3</td>\n",
       "      <td>3</td>\n",
       "      <td>5</td>\n",
       "      <td>5</td>\n",
       "      <td>8</td>\n",
       "      <td>9</td>\n",
       "      <td>9</td>\n",
       "    </tr>\n",
       "  </tbody>\n",
       "</table>\n",
       "<p>662 rows × 33 columns</p>\n",
       "</div>"
      ],
      "text/plain": [
       "    school sex age address famsize Pstatus Medu Fedu      Mjob      Fjob  ...  \\\n",
       "0       GP   F  18       U     GT3       A    4    4   at_home   teacher  ...   \n",
       "1       GP   F  17       U     GT3       T    1    1   at_home     other  ...   \n",
       "2       GP   F  15       U     LE3       T    1    1   at_home     other  ...   \n",
       "3       GP   F  15       U     GT3       T    4    2    health  services  ...   \n",
       "4       GP   F  16       U     GT3       T    3    3     other     other  ...   \n",
       "..     ...  ..  ..     ...     ...     ...  ...  ...       ...       ...  ...   \n",
       "657     MS   F  19       U     LE3       T    3    2  services  services  ...   \n",
       "658     MS   F  20       U     GT3       T    4    2    health     other  ...   \n",
       "659     MS   M  20       U     LE3       A    2    2  services  services  ...   \n",
       "660     MS   M  21       R     GT3       T    1    1     other     other  ...   \n",
       "661     MS   M  19       U     LE3       T    1    1     other   at_home  ...   \n",
       "\n",
       "    famrel freetime goout Dalc Walc health absences  G1  G2  G3  \n",
       "0        4        3     4    1    1      3        4   0  11  11  \n",
       "1        5        3     3    1    1      3        2   9  11  11  \n",
       "2        4        3     2    2    3      3        6  12  13  12  \n",
       "3        3        2     2    1    1      5        0  14  14  14  \n",
       "4        4        3     2    1    2      5        0  11  13  13  \n",
       "..     ...      ...   ...  ...  ...    ...      ...  ..  ..  ..  \n",
       "657      3        2     2    1    1      3        4   7   7   9  \n",
       "658      5        4     3    1    1      3        4  15  14  15  \n",
       "659      5        5     4    4    5      4       11   9   9   9  \n",
       "660      5        5     3    3    3      3        3  10   8   7  \n",
       "661      3        2     3    3    3      5        5   8   9   9  \n",
       "\n",
       "[662 rows x 33 columns]"
      ]
     },
     "execution_count": 92,
     "metadata": {},
     "output_type": "execute_result"
    }
   ],
   "source": [
    "df_port = pd.DataFrame(students_por)\n",
    "df_math = pd.DataFrame(students_math)\n",
    "df_combine =  pd.concat([df_port,df_math])\n",
    "df_combine = df_combine.reset_index()\n",
    "considered = [\"school\",\"sex\",\"age\",\"address\",\"famsize\",\"Pstatus\",\"Medu\",\"Fedu\",\"Mjob\",\"Fjob\",\"reason\",\"nursery\",\"internet\"]\n",
    "df_combine = df_combine.drop(labels = 'index', axis=1)\n",
    "df_combine = df_combine.drop_duplicates(subset=considered,ignore_index = True)\n",
    "df_combine.reset_index()\n",
    "df_combine"
   ]
  },
  {
   "cell_type": "code",
   "execution_count": 93,
   "id": "0583be81",
   "metadata": {},
   "outputs": [],
   "source": [
    "df_combine['age'] = df_combine['age'].apply(pd.to_numeric)\n",
    "df_combine['Medu'] = df_combine['Medu'].apply(pd.to_numeric)\n",
    "df_combine['Fedu'] = df_combine['Fedu'].apply(pd.to_numeric)\n",
    "df_combine['traveltime'] = df_combine['traveltime'].apply(pd.to_numeric)\n",
    "df_combine['studytime'] = df_combine['studytime'].apply(pd.to_numeric)\n",
    "df_combine['famrel'] = df_combine['famrel'].apply(pd.to_numeric)\n",
    "df_combine['freetime'] = df_combine['freetime'].apply(pd.to_numeric)\n",
    "df_combine['goout'] = df_combine['goout'].apply(pd.to_numeric)\n",
    "df_combine['Dalc'] = df_combine['Dalc'].apply(pd.to_numeric)\n",
    "df_combine['Walc'] = df_combine['Walc'].apply(pd.to_numeric)\n",
    "df_combine['health'] = df_combine['health'].apply(pd.to_numeric)\n",
    "df_combine['absences'] = df_combine['absences'].apply(pd.to_numeric)\n",
    "df_combine['G1'] = df_combine['G1'].apply(pd.to_numeric)\n",
    "df_combine['G2'] = df_combine['G2'].apply(pd.to_numeric)\n",
    "df_combine['G3'] = df_combine['G3'].apply(pd.to_numeric)"
   ]
  },
  {
   "cell_type": "code",
   "execution_count": 94,
   "id": "488ba142",
   "metadata": {},
   "outputs": [],
   "source": [
    "df_combine= df_combine.dropna(how=\"any\")"
   ]
  },
  {
   "cell_type": "markdown",
   "id": "b2052f80",
   "metadata": {},
   "source": [
    "**Exploring The Data**"
   ]
  },
  {
   "cell_type": "markdown",
   "id": "6e6eaad9",
   "metadata": {},
   "source": [
    "1.) What are the different columns and how many are there\n",
    "\n",
    "2.) how do the students surveyed range in age\n",
    "\n",
    "3.) how many math students were surveyed compared to portuguse students\n",
    "\n",
    "4.) is there even distribution of male vs female students surveyed\n",
    "\n",
    "5.) what are the different job categories in the table\n",
    "\n",
    "6.) how many attend each students attend each school out of the students surveyed\n",
    "\n"
   ]
  },
  {
   "cell_type": "code",
   "execution_count": 95,
   "id": "78fded06",
   "metadata": {},
   "outputs": [
    {
     "name": "stdout",
     "output_type": "stream",
     "text": [
      "Index(['school', 'sex', 'age', 'address', 'famsize', 'Pstatus', 'Medu', 'Fedu',\n",
      "       'Mjob', 'Fjob', 'reason', 'guardian', 'traveltime', 'studytime',\n",
      "       'failures', 'schoolsup', 'famsup', 'paid', 'activities', 'nursery',\n",
      "       'higher', 'internet', 'romantic', 'famrel', 'freetime', 'goout', 'Dalc',\n",
      "       'Walc', 'health', 'absences', 'G1', 'G2', 'G3'],\n",
      "      dtype='object')\n",
      "total columns: 33\n"
     ]
    }
   ],
   "source": [
    "print(df_combine.keys())\n",
    "print('total columns: %d'%len(df_combine.keys()))"
   ]
  },
  {
   "cell_type": "markdown",
   "id": "648cbca0",
   "metadata": {},
   "source": [
    "from this we can see that there are 33 different statistic tracked ignoring index column"
   ]
  },
  {
   "cell_type": "code",
   "execution_count": 96,
   "id": "0c404bbe",
   "metadata": {},
   "outputs": [
    {
     "name": "stdout",
     "output_type": "stream",
     "text": [
      "Math Students Surveyed: 395\n",
      "Portuguese Students Surveyed: 649\n"
     ]
    }
   ],
   "source": [
    "print(\"Math Students Surveyed: %d\"%len(df_math))\n",
    "print(\"Portuguese Students Surveyed: %d\"%len(df_port))"
   ]
  },
  {
   "cell_type": "markdown",
   "id": "3612a854",
   "metadata": {},
   "source": [
    "From this we can see that more portugese language students surveyed compared to math students"
   ]
  },
  {
   "cell_type": "code",
   "execution_count": 97,
   "id": "79e83fd8",
   "metadata": {},
   "outputs": [
    {
     "data": {
      "text/plain": [
       "F    390\n",
       "M    272\n",
       "Name: sex, dtype: int64"
      ]
     },
     "execution_count": 97,
     "metadata": {},
     "output_type": "execute_result"
    },
    {
     "data": {
      "image/png": "iVBORw0KGgoAAAANSUhEUgAAAWAAAAFgCAYAAACFYaNMAAAAOXRFWHRTb2Z0d2FyZQBNYXRwbG90bGliIHZlcnNpb24zLjQuMywgaHR0cHM6Ly9tYXRwbG90bGliLm9yZy/MnkTPAAAACXBIWXMAAAsTAAALEwEAmpwYAAATHUlEQVR4nO3df6xfd33f8ecLO4SsBRLIXWZso0TUbRfaYuhdCGN/ZEkpJnR12lKarC0ezWa2hQnWqmuYpkGrRmoFNCXdGsk0IU7bEVIoi5elabMkKkIdSW+oCfnRjLuQLvZMfAn5xSjZbN774540X7lufO343Pf98XxIX/mcz/ecr9+WrKeOjs/3OlWFJGnxvaB7AElarQywJDUxwJLUxABLUhMDLElN1nYP8Hxs2bKlbr755u4xJOlIcrjFZX0F/NWvfrV7BEk6Zss6wJK0nBlgSWoyeoCTrEnyZ0luHPbPSHJHktkkn0jywmH9xGF/dnj/9LFnk6ROi3EF/B7g/on9XwUur6rvAB4DLh7WLwYeG9YvH46TpBVr1AAn2QC8FfitYT/AucAnh0N2AhcM21uHfYb3zxuOl6QVaewr4F8H/g3wrWH/5cDjVXVg2N8DrB+21wMPAwzvPzEcL0kr0mgBTvJDwP6quus4f+72JDNJZubm5o7nR0vSohrzCviNwA8neQi4jvlbDx8BTk7yzBdANgB7h+29wEaA4f2XAo8e+qFVtaOqpqtqempqasTxJWlcowW4qt5XVRuq6nTgQuC2qvpJ4HbgbcNh24Abhu1dwz7D+7eVP6xY0grW8RzwLwA/m2SW+Xu8Vw3rVwEvH9Z/Fri0YTZJWjRZzheZ09PTNTMz0z2GJB3JyvtZEJK0nBlgSWqyrH8c5fPx/T9/bfcIGsldH3xH9wjSgngFLElNDLAkNTHAktTEAEtSEwMsSU0MsCQ1McCS1MQAS1ITAyxJTQywJDUxwJLUxABLUhMDLElNDLAkNTHAktTEAEtSEwMsSU0MsCQ1McCS1MQAS1ITAyxJTQywJDUxwJLUxABLUhMDLElNDLAkNRktwElelOTOJF9Icm+SXxzWr0ny5SS7h9fmYT1Jrkgym+TuJK8bazZJWgrWjvjZTwPnVtXXk5wAfDbJHwzv/XxVffKQ498CbBperweuHH6VpBVptCvgmvf1YfeE4VXPccpW4NrhvM8BJydZN9Z8ktRt1HvASdYk2Q3sB26pqjuGty4bbjNcnuTEYW098PDE6XuGtUM/c3uSmSQzc3NzY44vSaMaNcBVdbCqNgMbgLOSfA/wPuC7gb8HvAz4haP8zB1VNV1V01NTU8d7ZElaNIvyFERVPQ7cDmypqn3DbYangY8BZw2H7QU2Tpy2YViTpBVpzKcgppKcPGyfBLwJ+PNn7usmCXABcM9wyi7gHcPTEGcDT1TVvrHmk6RuYz4FsQ7YmWQN86G/vqpuTHJbkikgwG7gnw/H3wScD8wC3wDeOeJsktRutABX1d3Aaw+zfu7fcHwBl4w1jyQtNX4TTpKaGGBJamKAJamJAZakJgZYkpoYYElqYoAlqYkBlqQmBliSmhhgSWpigCWpiQGWpCYGWJKaGGBJamKAJamJAZakJgZYkpoYYElqYoAlqYkBlqQmBliSmhhgSWpigCWpiQGWpCYGWJKaGGBJamKAJamJAZakJqMFOMmLktyZ5AtJ7k3yi8P6GUnuSDKb5BNJXjisnzjszw7vnz7WbJK0FIx5Bfw0cG5VvQbYDGxJcjbwq8DlVfUdwGPAxcPxFwOPDeuXD8dJ0oo1WoBr3teH3ROGVwHnAp8c1ncCFwzbW4d9hvfPS5Kx5pOkbqPeA06yJsluYD9wC/A/gcer6sBwyB5g/bC9HngYYHj/CeDlY84nSZ1GDXBVHayqzcAG4Czgu5/vZybZnmQmyczc3Nzz/ThJarMoT0FU1ePA7cAbgJOTrB3e2gDsHbb3AhsBhvdfCjx6mM/aUVXTVTU9NTU19uiSNJoxn4KYSnLysH0S8CbgfuZD/LbhsG3ADcP2rmGf4f3bqqrGmk+Suq098iHHbB2wM8ka5kN/fVXdmOQ+4Lokvwz8GXDVcPxVwG8nmQW+Blw44myS1G60AFfV3cBrD7P+IPP3gw9d/ybw42PNI0lLjd+Ek6QmBliSmhhgSWpigCWpiQGWpCYGWJKaGGBJamKAJamJAZakJgZYkpoYYElqYoAlqYkBlqQmBliSmhhgSWpigCWpyZj/I4a0qvyvX/re7hE0olf++y8e98/0CliSmhhgSWpigCWpiQGWpCYGWJKaGGBJamKAJamJAZakJgZYkpoYYElqYoAlqYkBlqQmowU4ycYktye5L8m9Sd4zrH8gyd4ku4fX+RPnvC/JbJIHkrx5rNkkaSkY86ehHQB+rqo+n+TFwF1Jbhneu7yqPjR5cJIzgQuBVwOvAP5bku+sqoMjzihJbUa7Aq6qfVX1+WH7KeB+YP1znLIVuK6qnq6qLwOzwFljzSdJ3RblHnCS04HXAncMS+9OcneSq5OcMqytBx6eOG0Phwl2ku1JZpLMzM3NjTm2JI1q9AAn+XbgU8B7q+pJ4ErgVcBmYB/w4aP5vKraUVXTVTU9NTV1vMeVpEUzaoCTnMB8fH+3qn4foKoeqaqDVfUt4KM8e5thL7Bx4vQNw5okrUhjPgUR4Crg/qr6tYn1dROH/Qhwz7C9C7gwyYlJzgA2AXeONZ8kdRvzKYg3Aj8NfDHJ7mHt3wIXJdkMFPAQ8C6Aqro3yfXAfcw/QXGJT0BIWslGC3BVfRbIYd666TnOuQy4bKyZJGkp8ZtwktTEAEtSEwMsSU0MsCQ1McCS1MQAS1ITAyxJTQywJDUxwJLUxABLUhMDLElNDLAkNTHAktTEAEtSEwMsSU0MsCQ1McCS1GRBAU5y60LWJEkL95z/JVGSFwF/Czg1ySk8+18MvQRYP/JskrSiHen/hHsX8F7gFcBdPBvgJ4H/MN5YkrTyPWeAq+ojwEeS/Kuq+o1FmkmSVoUF/a/IVfUbSf4+cPrkOVV17UhzSdKKt6AAJ/lt4FXAbuDgsFyAAZakY7SgAAPTwJlVVWMOI0mryUKfA74H+DtjDiJJq81Cr4BPBe5Lcifw9DOLVfXDo0wlSavAQgP8gTGHkKTVaKFPQfzx2INI0mqz0K8iP5XkyeH1zSQHkzx5hHM2Jrk9yX1J7k3ynmH9ZUluSfKl4ddThvUkuSLJbJK7k7zu+f/xJGnpWlCAq+rFVfWSqnoJcBLwY8BvHuG0A8DPVdWZwNnAJUnOBC4Fbq2qTcCtwz7AW4BNw2s7cOXR/mEkaTk56p+GVvP+M/DmIxy3r6o+P2w/BdzP/M+P2ArsHA7bCVwwbG8Frh0+/3PAyUnWHe18krRcLPSLGD86sfsC5p8L/uZCf5MkpwOvBe4ATquqfcNbXwFOG7bXAw9PnLZnWNuHJK1AC30K4h9NbB8AHmL+ivWIknw78CngvVX1ZJK/eq+qKslRfbkjyXbmb1Hwyle+8mhOlaQlZaFPQbzzWD48yQnMx/d3q+r3h+VHkqyrqn3DLYb9w/peYOPE6RuGtUNn2QHsAJienvabeZKWrYU+BbEhyaeT7B9en0qy4QjnBLgKuL+qfm3irV3AtmF7G3DDxPo7hqchzgaemLhVIUkrzkL/Ee5jzAfyFcPrvwxrz+WNwE8D5ybZPbzOB34FeFOSLwE/MOwD3AQ8CMwCHwX+5dH8QSRpuVnoPeCpqpoM7jVJ3vtcJ1TVZ3n2B7gf6rzDHF/AJQucR5KWvYVeAT+a5KeSrBlePwU8OuZgkrTSLTTAPwO8nfnHxvYBbwP+yUgzSdKqsNBbEL8EbKuqx2D+68TAh5gPsyTpGCz0Cvj7nokvQFV9jfkvVkiSjtFCA/yCZ35oDvzVFfBCr54lSYex0Ih+GPjvSX5v2P9x4LJxRpKk1WGh34S7NskMcO6w9KNVdd94Y0nSyrfg2whDcI2uJB0nR/3jKCVJx4cBlqQmBliSmhhgSWpigCWpiQGWpCYGWJKaGGBJamKAJamJAZakJgZYkpoYYElqYoAlqYkBlqQmBliSmhhgSWpigCWpiQGWpCYGWJKaGGBJamKAJanJaAFOcnWS/UnumVj7QJK9SXYPr/Mn3ntfktkkDyR581hzSdJSMeYV8DXAlsOsX15Vm4fXTQBJzgQuBF49nPObSdaMOJsktRstwFX1GeBrCzx8K3BdVT1dVV8GZoGzxppNkpaCjnvA705y93CL4pRhbT3w8MQxe4a1vybJ9iQzSWbm5ubGnlWSRrPYAb4SeBWwGdgHfPhoP6CqdlTVdFVNT01NHefxJGnxLGqAq+qRqjpYVd8CPsqztxn2AhsnDt0wrEnSirWoAU6ybmL3R4BnnpDYBVyY5MQkZwCbgDsXczZJWmxrx/rgJB8HzgFOTbIHeD9wTpLNQAEPAe8CqKp7k1wP3AccAC6pqoNjzSZJS8FoAa6qiw6zfNVzHH8ZcNlY80jSUuM34SSpiQGWpCYGWJKaGGBJamKAJamJAZakJgZYkpoYYElqYoAlqYkBlqQmBliSmhhgSWpigCWpiQGWpCYGWJKaGGBJamKAJamJAZakJgZYkpoYYElqYoAlqYkBlqQmBliSmhhgSWpigCWpiQGWpCYGWJKaGGBJamKAJanJaAFOcnWS/UnumVh7WZJbknxp+PWUYT1Jrkgym+TuJK8bay5JWirGvAK+BthyyNqlwK1VtQm4ddgHeAuwaXhtB64ccS5JWhJGC3BVfQb42iHLW4Gdw/ZO4IKJ9Wtr3ueAk5OsG2s2SVoKFvse8GlVtW/Y/gpw2rC9Hnh44rg9w9pfk2R7kpkkM3Nzc+NNKkkja/tHuKoqoI7hvB1VNV1V01NTUyNMJkmLY7ED/MgztxaGX/cP63uBjRPHbRjWJGnFWuwA7wK2DdvbgBsm1t8xPA1xNvDExK0KSVqR1o71wUk+DpwDnJpkD/B+4FeA65NcDPwF8Pbh8JuA84FZ4BvAO8eaS5KWitECXFUX/Q1vnXeYYwu4ZKxZJGkp8ptwktTEAEtSEwMsSU0MsCQ1McCS1MQAS1ITAyxJTQywJDUxwJLUxABLUhMDLElNDLAkNTHAktTEAEtSEwMsSU0MsCQ1McCS1MQAS1ITAyxJTQywJDUxwJLUxABLUhMDLElNDLAkNTHAktTEAEtSEwMsSU0MsCQ1WdvxmyZ5CHgKOAgcqKrpJC8DPgGcDjwEvL2qHuuYT5IWQ+cV8D+sqs1VNT3sXwrcWlWbgFuHfUlasZbSLYitwM5heydwQd8okjS+rgAX8EdJ7kqyfVg7rar2DdtfAU473IlJtieZSTIzNze3GLNK0iha7gED/6Cq9ib528AtSf588s2qqiR1uBOragewA2B6evqwx0jSctByBVxVe4df9wOfBs4CHkmyDmD4dX/HbJK0WBY9wEm+LcmLn9kGfhC4B9gFbBsO2wbcsNizSdJi6rgFcRrw6STP/P7/qapuTvKnwPVJLgb+Anh7w2yStGgWPcBV9SDwmsOsPwqct9jzSFKXpfQYmiStKgZYkpoYYElqYoAlqYkBlqQmBliSmhhgSWpigCWpiQGWpCYGWJKaGGBJamKAJamJAZakJgZYkpoYYElqYoAlqYkBlqQmBliSmhhgSWpigCWpiQGWpCYGWJKaGGBJamKAJamJAZakJgZYkpoYYElqYoAlqYkBlqQmSy7ASbYkeSDJbJJLu+eRpLEsqQAnWQP8R+AtwJnARUnO7J1KksaxpAIMnAXMVtWDVfV/geuArc0zSdIo1nYPcIj1wMMT+3uA108ekGQ7sH3Y/XqSBxZptuXuVOCr3UMshnxoW/cIq8Wq+TsFwPvzfM6+uaq2HLq41AJ8RFW1A9jRPcdyk2Smqqa759DK4d+p52+p3YLYC2yc2N8wrEnSirPUAvynwKYkZyR5IXAhsKt5JkkaxZK6BVFVB5K8G/hDYA1wdVXd2zzWSuFtGx1v/p16nlJV3TNI0qq01G5BSNKqYYAlqYkBXuGSHEyye+J1evdMWr6SVJLfmdhfm2QuyY2dcy1XS+of4TSKv6yqzd1DaMX4P8D3JDmpqv4SeBM+KnrMvAKWdLRuAt46bF8EfLxxlmXNAK98J03cfvh09zBaEa4DLkzyIuD7gDua51m2vAWx8nkLQsdVVd09/FvCRcxfDesYGWBJx2IX8CHgHODlvaMsXwZY0rG4Gni8qr6Y5JzmWZYtAyzpqFXVHuCK7jmWO7+KLElNfApCkpoYYElqYoAlqYkBlqQmBliSmhhgSWpigCWpiQHWqpLk25L81yRfSHJPkp9I8v1J/jjJXUn+MMm6JC9N8kCS7xrO+3iSf9Y9v1YWvwmn1WYL8L+r6q0ASV4K/AGwtarmkvwEcFlV/czwH8Rek+QjwClV9dG+sbUS+U04rSpJvhP4I+ATwI3AY8CfAA8Oh6wB9lXVDw7H7wB+DHjN8PVb6bjxClirSlX9jySvA84Hfhm4Dbi3qt5w6LFJXgD8XeAbwCmAAdZx5T1grSpJXgF8o6p+B/gg8HpgKskbhvdPSPLq4fB/DdwP/GPgY0lO6JhZK5dXwFptvhf4YJJvAf8P+BfAAeCK4X7wWuDXkxwA/ilwVlU9leQzwL8D3t80t1Yg7wFLUhNvQUhSEwMsSU0MsCQ1McCS1MQAS1ITAyxJTQywJDX5/50JlfE7vQtGAAAAAElFTkSuQmCC\n",
      "text/plain": [
       "<Figure size 360x360 with 1 Axes>"
      ]
     },
     "metadata": {
      "needs_background": "light"
     },
     "output_type": "display_data"
    }
   ],
   "source": [
    "sns.catplot(data=df_combine,kind='count', x=\"sex\")\n",
    "df_combine['sex'].value_counts()"
   ]
  },
  {
   "cell_type": "markdown",
   "id": "ebbde026",
   "metadata": {},
   "source": [
    "from this we can see that slightly more female students were surveyed than male students."
   ]
  },
  {
   "cell_type": "code",
   "execution_count": 98,
   "id": "4fea75aa",
   "metadata": {},
   "outputs": [
    {
     "name": "stdout",
     "output_type": "stream",
     "text": [
      "minimun age: 15\n",
      "maximun age: 22\n",
      "range:       7\n"
     ]
    }
   ],
   "source": [
    "print(\"minimun age: %d\"%df_combine['age'].min())\n",
    "print(\"maximun age: %d\"%df_combine['age'].max())\n",
    "print(\"range:       %d\"%(df_combine['age'].max()-df_combine['age'].min()))"
   ]
  },
  {
   "cell_type": "markdown",
   "id": "68d4c41e",
   "metadata": {},
   "source": [
    "from this we can see that the youngest students surveyed were 15 and the oldest were 22 this gives us a range of 7"
   ]
  },
  {
   "cell_type": "code",
   "execution_count": 99,
   "id": "d6398de6",
   "metadata": {},
   "outputs": [
    {
     "data": {
      "text/plain": [
       "array(['at_home', 'health', 'other', 'services', 'teacher'], dtype=object)"
      ]
     },
     "execution_count": 99,
     "metadata": {},
     "output_type": "execute_result"
    }
   ],
   "source": [
    "np.unique(df_combine[['Fjob','Mjob']])"
   ]
  },
  {
   "cell_type": "markdown",
   "id": "63f8b518",
   "metadata": {},
   "source": [
    "7.)If a student has at least one parent working their job from home, then are they more likely to drink alcohol? Take all the data of kids with at least one parent that works from home, and check if it's common for the kid to drink alcohol."
   ]
  },
  {
   "cell_type": "code",
   "execution_count": 100,
   "id": "f14cf8a2",
   "metadata": {},
   "outputs": [
    {
     "data": {
      "text/plain": [
       "GP    434\n",
       "MS    228\n",
       "Name: school, dtype: int64"
      ]
     },
     "execution_count": 100,
     "metadata": {},
     "output_type": "execute_result"
    },
    {
     "data": {
      "image/png": "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\n",
      "text/plain": [
       "<Figure size 360x360 with 1 Axes>"
      ]
     },
     "metadata": {
      "needs_background": "light"
     },
     "output_type": "display_data"
    }
   ],
   "source": [
    "sns.catplot(data=df_combine,kind='count', x=\"school\")\n",
    "df_combine['school'].value_counts()"
   ]
  },
  {
   "cell_type": "markdown",
   "id": "9f1cc8f6",
   "metadata": {},
   "source": [
    "from the graph we can see that a moderate amount more students from GP then from MS that were surveyed"
   ]
  },
  {
   "cell_type": "markdown",
   "id": "3622f3dc",
   "metadata": {},
   "source": [
    "**Question 7**\n",
    "\n",
    "do students who have one parent at home tend to drink less? To do this we will find all the students who have atleast one parent at home and assign then value each student depending on if they have one parent who stays at home.  we can then graph the students alchol consumption based on weekend and weekdays and compare trends to determine if there is a correlation. we can then calculate ratios for each of alchol consuptions amongst each group and see which what percentage of students fall under what alchol consuption group.  if the ratios are significantly different and their trends dont match its safe to say there is some correlation between the two. However if the ratio are simalar and the trends match its safe to say that there is no correlation between a students drinking habbits and weather they have one parent at home."
   ]
  },
  {
   "cell_type": "code",
   "execution_count": 101,
   "id": "f8013d66",
   "metadata": {},
   "outputs": [
    {
     "name": "stdout",
     "output_type": "stream",
     "text": [
      "0    493\n",
      "1    169\n",
      "Name: P_at_home, dtype: int64\n"
     ]
    }
   ],
   "source": [
    "def is_at_home(x):\n",
    "    if x == 'at_home':\n",
    "        return True\n",
    "    \n",
    "    return False\n",
    "def one_at_home(x,y):\n",
    "    one = []\n",
    "    for i in range(len(x)):\n",
    "        if x[i] == 1 or y[i] ==1:\n",
    "            one.append(1)\n",
    "        else:\n",
    "            one.append(0)\n",
    "    return one \n",
    "\n",
    "\n",
    "M_at_home = df_combine['Mjob'].apply(is_at_home)\n",
    "F_at_home = df_combine['Fjob'].apply(is_at_home)\n",
    "o_at_home = one_at_home(M_at_home,F_at_home)\n",
    "\n",
    "\n",
    "df_combine.insert(column='P_at_home',loc=33,value=o_at_home)\n",
    "count_has_p_home = df_combine['P_at_home'].value_counts()\n",
    "print(count_has_p_home)"
   ]
  },
  {
   "cell_type": "code",
   "execution_count": 102,
   "id": "6575d140",
   "metadata": {},
   "outputs": [
    {
     "data": {
      "text/html": [
       "<div>\n",
       "<style scoped>\n",
       "    .dataframe tbody tr th:only-of-type {\n",
       "        vertical-align: middle;\n",
       "    }\n",
       "\n",
       "    .dataframe tbody tr th {\n",
       "        vertical-align: top;\n",
       "    }\n",
       "\n",
       "    .dataframe thead tr th {\n",
       "        text-align: left;\n",
       "    }\n",
       "\n",
       "    .dataframe thead tr:last-of-type th {\n",
       "        text-align: right;\n",
       "    }\n",
       "</style>\n",
       "<table border=\"1\" class=\"dataframe\">\n",
       "  <thead>\n",
       "    <tr>\n",
       "      <th></th>\n",
       "      <th colspan=\"2\" halign=\"left\">Fjob</th>\n",
       "    </tr>\n",
       "    <tr>\n",
       "      <th>P_at_home</th>\n",
       "      <th>0</th>\n",
       "      <th>1</th>\n",
       "    </tr>\n",
       "    <tr>\n",
       "      <th>Dalc</th>\n",
       "      <th></th>\n",
       "      <th></th>\n",
       "    </tr>\n",
       "  </thead>\n",
       "  <tbody>\n",
       "    <tr>\n",
       "      <th>1</th>\n",
       "      <td>340</td>\n",
       "      <td>119</td>\n",
       "    </tr>\n",
       "    <tr>\n",
       "      <th>2</th>\n",
       "      <td>92</td>\n",
       "      <td>31</td>\n",
       "    </tr>\n",
       "    <tr>\n",
       "      <th>3</th>\n",
       "      <td>34</td>\n",
       "      <td>11</td>\n",
       "    </tr>\n",
       "    <tr>\n",
       "      <th>4</th>\n",
       "      <td>14</td>\n",
       "      <td>4</td>\n",
       "    </tr>\n",
       "    <tr>\n",
       "      <th>5</th>\n",
       "      <td>13</td>\n",
       "      <td>4</td>\n",
       "    </tr>\n",
       "  </tbody>\n",
       "</table>\n",
       "</div>"
      ],
      "text/plain": [
       "          Fjob     \n",
       "P_at_home    0    1\n",
       "Dalc               \n",
       "1          340  119\n",
       "2           92   31\n",
       "3           34   11\n",
       "4           14    4\n",
       "5           13    4"
      ]
     },
     "execution_count": 102,
     "metadata": {},
     "output_type": "execute_result"
    },
    {
     "data": {
      "image/png": "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\n",
      "text/plain": [
       "<Figure size 422.125x360 with 1 Axes>"
      ]
     },
     "metadata": {
      "needs_background": "light"
     },
     "output_type": "display_data"
    }
   ],
   "source": [
    "sns.catplot(data=df_combine,kind='count', x=\"Walc\", hue=\"P_at_home\")\n",
    "Dalc_pivot = pd.pivot_table(data=df_combine,columns=['P_at_home'] ,values=['Fjob'],index=['Dalc'],aggfunc='count')\n",
    "Dalc_pivot = pd.DataFrame(data = Dalc_pivot)\n",
    "Dno = Dalc_pivot['Fjob'][0].apply(func = lambda x: x/count_has_p_home[0])\n",
    "Dyes = Dalc_pivot['Fjob'][1].apply(func = lambda x: x/count_has_p_home[1])\n",
    "Dalc_pivot"
   ]
  },
  {
   "cell_type": "code",
   "execution_count": 103,
   "id": "52b78ce0",
   "metadata": {},
   "outputs": [
    {
     "data": {
      "text/plain": [
       "<matplotlib.legend.Legend at 0x7f2ef4a62970>"
      ]
     },
     "execution_count": 103,
     "metadata": {},
     "output_type": "execute_result"
    },
    {
     "data": {
      "image/png": "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\n",
      "text/plain": [
       "<Figure size 432x288 with 1 Axes>"
      ]
     },
     "metadata": {
      "needs_background": "light"
     },
     "output_type": "display_data"
    }
   ],
   "source": [
    "ax = sns.lineplot(data=[Dno,Dyes])\n",
    "ax.set(xlabel=\"Dalc Group\", ylabel = \"Proportion\") \n",
    "plt.legend(labels=[\"No Parents at home\",\"Yes Parents at home\"])"
   ]
  },
  {
   "cell_type": "code",
   "execution_count": 104,
   "id": "106a64db",
   "metadata": {},
   "outputs": [
    {
     "data": {
      "image/png": "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\n",
      "text/plain": [
       "<Figure size 422.125x360 with 1 Axes>"
      ]
     },
     "metadata": {
      "needs_background": "light"
     },
     "output_type": "display_data"
    }
   ],
   "source": [
    "sns.catplot(data=df_combine,kind='count', x=\"Walc\", hue=\"P_at_home\")\n",
    "Walc_pivot = pd.pivot_table(data=df_combine,columns=['P_at_home'] ,values=['Fjob'],index=['Walc'],aggfunc='count')\n",
    "Walc_pivot = pd.DataFrame(data = Walc_pivot)\n",
    "Wx = Walc_pivot['Fjob'][0].apply(func = lambda x: x/count_has_p_home[0])\n",
    "Wy = Walc_pivot['Fjob'][1].apply(func = lambda x: x/count_has_p_home[1])"
   ]
  },
  {
   "cell_type": "code",
   "execution_count": 105,
   "id": "66fc7898",
   "metadata": {},
   "outputs": [
    {
     "data": {
      "text/plain": [
       "<matplotlib.legend.Legend at 0x7f2ef4a36eb0>"
      ]
     },
     "execution_count": 105,
     "metadata": {},
     "output_type": "execute_result"
    },
    {
     "data": {
      "image/png": "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\n",
      "text/plain": [
       "<Figure size 432x288 with 1 Axes>"
      ]
     },
     "metadata": {
      "needs_background": "light"
     },
     "output_type": "display_data"
    }
   ],
   "source": [
    "ax = sns.lineplot(data=[Wx,Wy])\n",
    "ax.set(xlabel=\"Walc Group\", ylabel = \"Proportion\") \n",
    "plt.legend(labels=[\"No Parents at home\",\"Yes Parents at home\"])"
   ]
  },
  {
   "cell_type": "markdown",
   "id": "312ebc6d",
   "metadata": {},
   "source": []
  },
  {
   "cell_type": "markdown",
   "id": "33202679",
   "metadata": {},
   "source": [
    "**Question 8**<br>\n",
    "Do students with worse family relations tend to drink more? To answer this question we will first need to the divide the students based on which family relationships category they fall under.  then futher subdivide these groups based on there alcohol consumption categories for weekdays and weekends.  we can then then calculate what proportion of family relation group fall under which drinking category and graph the trends.  if we see a noticeable difference in propotions for of the family relation groups we can safely say that there is a trend and then all we have to do is observe it."
   ]
  },
  {
   "cell_type": "code",
   "execution_count": 106,
   "id": "c5df8310",
   "metadata": {},
   "outputs": [
    {
     "data": {
      "text/html": [
       "<div>\n",
       "<style scoped>\n",
       "    .dataframe tbody tr th:only-of-type {\n",
       "        vertical-align: middle;\n",
       "    }\n",
       "\n",
       "    .dataframe tbody tr th {\n",
       "        vertical-align: top;\n",
       "    }\n",
       "\n",
       "    .dataframe thead tr th {\n",
       "        text-align: left;\n",
       "    }\n",
       "\n",
       "    .dataframe thead tr:last-of-type th {\n",
       "        text-align: right;\n",
       "    }\n",
       "</style>\n",
       "<table border=\"1\" class=\"dataframe\">\n",
       "  <thead>\n",
       "    <tr>\n",
       "      <th></th>\n",
       "      <th colspan=\"5\" halign=\"left\">Fjob</th>\n",
       "    </tr>\n",
       "    <tr>\n",
       "      <th>famrel</th>\n",
       "      <th>1</th>\n",
       "      <th>2</th>\n",
       "      <th>3</th>\n",
       "      <th>4</th>\n",
       "      <th>5</th>\n",
       "    </tr>\n",
       "    <tr>\n",
       "      <th>Walc</th>\n",
       "      <th></th>\n",
       "      <th></th>\n",
       "      <th></th>\n",
       "      <th></th>\n",
       "      <th></th>\n",
       "    </tr>\n",
       "  </thead>\n",
       "  <tbody>\n",
       "    <tr>\n",
       "      <th>1</th>\n",
       "      <td>6</td>\n",
       "      <td>9</td>\n",
       "      <td>31</td>\n",
       "      <td>126</td>\n",
       "      <td>82</td>\n",
       "    </tr>\n",
       "    <tr>\n",
       "      <th>2</th>\n",
       "      <td>6</td>\n",
       "      <td>5</td>\n",
       "      <td>25</td>\n",
       "      <td>75</td>\n",
       "      <td>36</td>\n",
       "    </tr>\n",
       "    <tr>\n",
       "      <th>3</th>\n",
       "      <td>4</td>\n",
       "      <td>5</td>\n",
       "      <td>21</td>\n",
       "      <td>65</td>\n",
       "      <td>29</td>\n",
       "    </tr>\n",
       "    <tr>\n",
       "      <th>4</th>\n",
       "      <td>0</td>\n",
       "      <td>7</td>\n",
       "      <td>19</td>\n",
       "      <td>43</td>\n",
       "      <td>22</td>\n",
       "    </tr>\n",
       "    <tr>\n",
       "      <th>5</th>\n",
       "      <td>4</td>\n",
       "      <td>3</td>\n",
       "      <td>7</td>\n",
       "      <td>19</td>\n",
       "      <td>13</td>\n",
       "    </tr>\n",
       "  </tbody>\n",
       "</table>\n",
       "</div>"
      ],
      "text/plain": [
       "       Fjob                \n",
       "famrel    1  2   3    4   5\n",
       "Walc                       \n",
       "1         6  9  31  126  82\n",
       "2         6  5  25   75  36\n",
       "3         4  5  21   65  29\n",
       "4         0  7  19   43  22\n",
       "5         4  3   7   19  13"
      ]
     },
     "execution_count": 106,
     "metadata": {},
     "output_type": "execute_result"
    },
    {
     "data": {
      "image/png": "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\n",
      "text/plain": [
       "<Figure size 402.375x360 with 1 Axes>"
      ]
     },
     "metadata": {
      "needs_background": "light"
     },
     "output_type": "display_data"
    }
   ],
   "source": [
    "sns.catplot(data=df_combine,kind='count', x=\"famrel\", hue=\"Walc\")\n",
    "Walc2_pivot = pd.pivot_table(data=df_combine,values=['Fjob'],index=['Walc'], columns=['famrel'],aggfunc='count',fill_value=0)\n",
    "Walc2_pivot"
   ]
  },
  {
   "cell_type": "code",
   "execution_count": 107,
   "id": "fb0babf2",
   "metadata": {},
   "outputs": [
    {
     "data": {
      "text/html": [
       "<div>\n",
       "<style scoped>\n",
       "    .dataframe tbody tr th:only-of-type {\n",
       "        vertical-align: middle;\n",
       "    }\n",
       "\n",
       "    .dataframe tbody tr th {\n",
       "        vertical-align: top;\n",
       "    }\n",
       "\n",
       "    .dataframe thead th {\n",
       "        text-align: right;\n",
       "    }\n",
       "</style>\n",
       "<table border=\"1\" class=\"dataframe\">\n",
       "  <thead>\n",
       "    <tr style=\"text-align: right;\">\n",
       "      <th>Walc</th>\n",
       "      <th>1</th>\n",
       "      <th>2</th>\n",
       "      <th>3</th>\n",
       "      <th>4</th>\n",
       "      <th>5</th>\n",
       "    </tr>\n",
       "  </thead>\n",
       "  <tbody>\n",
       "    <tr>\n",
       "      <th>1</th>\n",
       "      <td>0.300000</td>\n",
       "      <td>0.300000</td>\n",
       "      <td>0.200000</td>\n",
       "      <td>0.000000</td>\n",
       "      <td>0.200000</td>\n",
       "    </tr>\n",
       "    <tr>\n",
       "      <th>2</th>\n",
       "      <td>0.310345</td>\n",
       "      <td>0.172414</td>\n",
       "      <td>0.172414</td>\n",
       "      <td>0.241379</td>\n",
       "      <td>0.103448</td>\n",
       "    </tr>\n",
       "    <tr>\n",
       "      <th>3</th>\n",
       "      <td>0.300971</td>\n",
       "      <td>0.242718</td>\n",
       "      <td>0.203883</td>\n",
       "      <td>0.184466</td>\n",
       "      <td>0.067961</td>\n",
       "    </tr>\n",
       "    <tr>\n",
       "      <th>4</th>\n",
       "      <td>0.384146</td>\n",
       "      <td>0.228659</td>\n",
       "      <td>0.198171</td>\n",
       "      <td>0.131098</td>\n",
       "      <td>0.057927</td>\n",
       "    </tr>\n",
       "    <tr>\n",
       "      <th>5</th>\n",
       "      <td>0.450549</td>\n",
       "      <td>0.197802</td>\n",
       "      <td>0.159341</td>\n",
       "      <td>0.120879</td>\n",
       "      <td>0.071429</td>\n",
       "    </tr>\n",
       "  </tbody>\n",
       "</table>\n",
       "</div>"
      ],
      "text/plain": [
       "Walc         1         2         3         4         5\n",
       "1     0.300000  0.300000  0.200000  0.000000  0.200000\n",
       "2     0.310345  0.172414  0.172414  0.241379  0.103448\n",
       "3     0.300971  0.242718  0.203883  0.184466  0.067961\n",
       "4     0.384146  0.228659  0.198171  0.131098  0.057927\n",
       "5     0.450549  0.197802  0.159341  0.120879  0.071429"
      ]
     },
     "execution_count": 107,
     "metadata": {},
     "output_type": "execute_result"
    },
    {
     "data": {
      "image/png": "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\n",
      "text/plain": [
       "<Figure size 432x288 with 1 Axes>"
      ]
     },
     "metadata": {
      "needs_background": "light"
     },
     "output_type": "display_data"
    }
   ],
   "source": [
    "percent_data1 = []\n",
    "for i in range(1,len(Walc2_pivot)+1):\n",
    "    group_size = Walc2_pivot['Fjob'][i].sum()\n",
    "    percent_data1.append(Walc2_pivot['Fjob'][i].apply(func = lambda x: x/group_size))\n",
    "ax = sns.lineplot(data=percent_data1)\n",
    "ax.set(xlabel=\"Walc Group\", ylabel = \"Proportion\") \n",
    "ax.legend(labels=['famrel 1','famrel 2','famrel 3','famrel 4','famrel 5'])\n",
    "d_df = pd.DataFrame(percent_data1)\n",
    "d_df"
   ]
  },
  {
   "cell_type": "code",
   "execution_count": 108,
   "id": "efd28b2c",
   "metadata": {},
   "outputs": [
    {
     "data": {
      "text/plain": [
       "Dalc\n",
       "1    459\n",
       "2    123\n",
       "3     45\n",
       "4     18\n",
       "5     17\n",
       "Name: famrel, dtype: int64"
      ]
     },
     "execution_count": 108,
     "metadata": {},
     "output_type": "execute_result"
    },
    {
     "data": {
      "image/png": "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\n",
      "text/plain": [
       "<Figure size 402.375x360 with 1 Axes>"
      ]
     },
     "metadata": {
      "needs_background": "light"
     },
     "output_type": "display_data"
    }
   ],
   "source": [
    "sns.catplot(data=df_combine,kind='count', x=\"famrel\", hue=\"Dalc\")\n",
    "#Dalc2_pivot = pd.pivot_table(data=df_combine,values=['Fjob'],index=['Dalc'], columns=['famrel'],aggfunc='count',fill_value=0)\n",
    "data = df_combine.groupby('Dalc')['famrel'].count()\n",
    "data"
   ]
  },
  {
   "cell_type": "code",
   "execution_count": 109,
   "id": "a45cd303",
   "metadata": {},
   "outputs": [
    {
     "data": {
      "text/html": [
       "<div>\n",
       "<style scoped>\n",
       "    .dataframe tbody tr th:only-of-type {\n",
       "        vertical-align: middle;\n",
       "    }\n",
       "\n",
       "    .dataframe tbody tr th {\n",
       "        vertical-align: top;\n",
       "    }\n",
       "\n",
       "    .dataframe thead th {\n",
       "        text-align: right;\n",
       "    }\n",
       "</style>\n",
       "<table border=\"1\" class=\"dataframe\">\n",
       "  <thead>\n",
       "    <tr style=\"text-align: right;\">\n",
       "      <th>Dalc</th>\n",
       "      <th>1</th>\n",
       "      <th>2</th>\n",
       "      <th>3</th>\n",
       "      <th>4</th>\n",
       "      <th>5</th>\n",
       "    </tr>\n",
       "  </thead>\n",
       "  <tbody>\n",
       "    <tr>\n",
       "      <th>1</th>\n",
       "      <td>0.500000</td>\n",
       "      <td>0.200000</td>\n",
       "      <td>0.150000</td>\n",
       "      <td>0.100000</td>\n",
       "      <td>0.050000</td>\n",
       "    </tr>\n",
       "    <tr>\n",
       "      <th>2</th>\n",
       "      <td>0.517241</td>\n",
       "      <td>0.310345</td>\n",
       "      <td>0.137931</td>\n",
       "      <td>0.000000</td>\n",
       "      <td>0.034483</td>\n",
       "    </tr>\n",
       "    <tr>\n",
       "      <th>3</th>\n",
       "      <td>0.679612</td>\n",
       "      <td>0.223301</td>\n",
       "      <td>0.038835</td>\n",
       "      <td>0.048544</td>\n",
       "      <td>0.009709</td>\n",
       "    </tr>\n",
       "    <tr>\n",
       "      <th>4</th>\n",
       "      <td>0.692073</td>\n",
       "      <td>0.207317</td>\n",
       "      <td>0.060976</td>\n",
       "      <td>0.018293</td>\n",
       "      <td>0.021341</td>\n",
       "    </tr>\n",
       "    <tr>\n",
       "      <th>5</th>\n",
       "      <td>0.752747</td>\n",
       "      <td>0.104396</td>\n",
       "      <td>0.076923</td>\n",
       "      <td>0.027473</td>\n",
       "      <td>0.038462</td>\n",
       "    </tr>\n",
       "  </tbody>\n",
       "</table>\n",
       "</div>"
      ],
      "text/plain": [
       "Dalc         1         2         3         4         5\n",
       "1     0.500000  0.200000  0.150000  0.100000  0.050000\n",
       "2     0.517241  0.310345  0.137931  0.000000  0.034483\n",
       "3     0.679612  0.223301  0.038835  0.048544  0.009709\n",
       "4     0.692073  0.207317  0.060976  0.018293  0.021341\n",
       "5     0.752747  0.104396  0.076923  0.027473  0.038462"
      ]
     },
     "execution_count": 109,
     "metadata": {},
     "output_type": "execute_result"
    },
    {
     "data": {
      "image/png": "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\n",
      "text/plain": [
       "<Figure size 432x288 with 1 Axes>"
      ]
     },
     "metadata": {
      "needs_background": "light"
     },
     "output_type": "display_data"
    }
   ],
   "source": [
    "percent_data2 = []\n",
    "for i in range(1,len(Dalc2_pivot)+1):\n",
    "    group_size = Dalc2_pivot['Fjob'][i].sum()\n",
    "    percent_data2.append(Dalc2_pivot['Fjob'][i].apply(func = lambda x: x/group_size))\n",
    "ax1 = sns.lineplot(data=percent_data2)\n",
    "ax1.set(xlabel=\"Dalc Group\", ylabel = \"Proportion\") \n",
    "ax1.legend(labels=['famrel 1','famrel 2','famrel 3','famrel 4','famrel 5'])\n",
    "d_df2 = pd.DataFrame(percent_data2)\n",
    "d_df2"
   ]
  },
  {
   "cell_type": "markdown",
   "id": "353a28a3",
   "metadata": {},
   "source": [
    "as we can see from the graphs above larger proportion of students who fall under the lowest categories of drinking when they have better family relationships and a larger proportion proportion of stundents falling under the higher for students with poor family relations.  however the lines still trend in the same directionwith the majority of student in the lowest drinking category and every following category have a smaller proportion of the students in it. this would suggest a weak correlation between these 2 variables. "
   ]
  }
 ],
 "metadata": {
  "kernelspec": {
   "display_name": "Python 3 (ipykernel)",
   "language": "python",
   "name": "python3"
  },
  "language_info": {
   "codemirror_mode": {
    "name": "ipython",
    "version": 3
   },
   "file_extension": ".py",
   "mimetype": "text/x-python",
   "name": "python",
   "nbconvert_exporter": "python",
   "pygments_lexer": "ipython3",
   "version": "3.8.12"
  }
 },
 "nbformat": 4,
 "nbformat_minor": 5
}
