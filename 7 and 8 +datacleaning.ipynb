{
 "cells": [
  {
   "cell_type": "markdown",
   "id": "5d1258ad",
   "metadata": {},
   "source": [
    "Group ID: Group 15 \n",
    "\n",
    "Tyler Brannon - 100783157\n",
    "\n",
    "Patrick Guerin - 100784247\n",
    "\n",
    "Eric D'Souza -  100782796\n",
    "\n",
    "Mohammadreza Rahbar - 100781952"
   ]
  },
  {
   "cell_type": "code",
   "execution_count": 1,
   "id": "b17453b8",
   "metadata": {},
   "outputs": [],
   "source": [
    "import csv\n",
    "import re\n",
    "import pandas as pd\n",
    "from functools import reduce\n",
    "import numpy as np\n",
    "import calendar\n",
    "import string\n",
    "import matplotlib.pyplot as plt\n",
    "import seaborn as sns\n",
    "\n",
    "def open_csv(file_name):\n",
    "    collection = []\n",
    "    with open(file_name, 'r') as f:\n",
    "        for line in csv.DictReader(f):\n",
    "            collection.append(line)\n",
    "        return collection\n",
    "    \n",
    "students_math = open_csv('student-mat.csv')\n",
    "students_por = open_csv('student-por.csv')"
   ]
  },
  {
   "cell_type": "markdown",
   "id": "3b65822e",
   "metadata": {},
   "source": [
    "**Data Cleaning**\n",
    "\n",
    "1.) combine both tables to make the data easier to work with\n",
    "\n",
    "2.) parse any numbers represented as strings to ints (i.e., goout is represented as a string so we should parse it to a int)\n",
    "\n",
    "3.) get rid of any unreadable data points (i.e., any NA values)\n",
    "\n",
    "4.) drop any students that appear in both data sets (there is a note at the bottom of the dataset link to the dataset that explain how to determine how a student is in both datasets)"
   ]
  },
  {
   "cell_type": "code",
   "execution_count": 2,
   "id": "d736068e",
   "metadata": {},
   "outputs": [
    {
     "data": {
      "text/html": [
       "<div>\n",
       "<style scoped>\n",
       "    .dataframe tbody tr th:only-of-type {\n",
       "        vertical-align: middle;\n",
       "    }\n",
       "\n",
       "    .dataframe tbody tr th {\n",
       "        vertical-align: top;\n",
       "    }\n",
       "\n",
       "    .dataframe thead th {\n",
       "        text-align: right;\n",
       "    }\n",
       "</style>\n",
       "<table border=\"1\" class=\"dataframe\">\n",
       "  <thead>\n",
       "    <tr style=\"text-align: right;\">\n",
       "      <th></th>\n",
       "      <th>school</th>\n",
       "      <th>sex</th>\n",
       "      <th>age</th>\n",
       "      <th>address</th>\n",
       "      <th>famsize</th>\n",
       "      <th>Pstatus</th>\n",
       "      <th>Medu</th>\n",
       "      <th>Fedu</th>\n",
       "      <th>Mjob</th>\n",
       "      <th>Fjob</th>\n",
       "      <th>...</th>\n",
       "      <th>famrel</th>\n",
       "      <th>freetime</th>\n",
       "      <th>goout</th>\n",
       "      <th>Dalc</th>\n",
       "      <th>Walc</th>\n",
       "      <th>health</th>\n",
       "      <th>absences</th>\n",
       "      <th>G1</th>\n",
       "      <th>G2</th>\n",
       "      <th>G3</th>\n",
       "    </tr>\n",
       "  </thead>\n",
       "  <tbody>\n",
       "    <tr>\n",
       "      <th>0</th>\n",
       "      <td>GP</td>\n",
       "      <td>F</td>\n",
       "      <td>18</td>\n",
       "      <td>U</td>\n",
       "      <td>GT3</td>\n",
       "      <td>A</td>\n",
       "      <td>4</td>\n",
       "      <td>4</td>\n",
       "      <td>at_home</td>\n",
       "      <td>teacher</td>\n",
       "      <td>...</td>\n",
       "      <td>4</td>\n",
       "      <td>3</td>\n",
       "      <td>4</td>\n",
       "      <td>1</td>\n",
       "      <td>1</td>\n",
       "      <td>3</td>\n",
       "      <td>4</td>\n",
       "      <td>0</td>\n",
       "      <td>11</td>\n",
       "      <td>11</td>\n",
       "    </tr>\n",
       "    <tr>\n",
       "      <th>1</th>\n",
       "      <td>GP</td>\n",
       "      <td>F</td>\n",
       "      <td>17</td>\n",
       "      <td>U</td>\n",
       "      <td>GT3</td>\n",
       "      <td>T</td>\n",
       "      <td>1</td>\n",
       "      <td>1</td>\n",
       "      <td>at_home</td>\n",
       "      <td>other</td>\n",
       "      <td>...</td>\n",
       "      <td>5</td>\n",
       "      <td>3</td>\n",
       "      <td>3</td>\n",
       "      <td>1</td>\n",
       "      <td>1</td>\n",
       "      <td>3</td>\n",
       "      <td>2</td>\n",
       "      <td>9</td>\n",
       "      <td>11</td>\n",
       "      <td>11</td>\n",
       "    </tr>\n",
       "    <tr>\n",
       "      <th>2</th>\n",
       "      <td>GP</td>\n",
       "      <td>F</td>\n",
       "      <td>15</td>\n",
       "      <td>U</td>\n",
       "      <td>LE3</td>\n",
       "      <td>T</td>\n",
       "      <td>1</td>\n",
       "      <td>1</td>\n",
       "      <td>at_home</td>\n",
       "      <td>other</td>\n",
       "      <td>...</td>\n",
       "      <td>4</td>\n",
       "      <td>3</td>\n",
       "      <td>2</td>\n",
       "      <td>2</td>\n",
       "      <td>3</td>\n",
       "      <td>3</td>\n",
       "      <td>6</td>\n",
       "      <td>12</td>\n",
       "      <td>13</td>\n",
       "      <td>12</td>\n",
       "    </tr>\n",
       "    <tr>\n",
       "      <th>3</th>\n",
       "      <td>GP</td>\n",
       "      <td>F</td>\n",
       "      <td>15</td>\n",
       "      <td>U</td>\n",
       "      <td>GT3</td>\n",
       "      <td>T</td>\n",
       "      <td>4</td>\n",
       "      <td>2</td>\n",
       "      <td>health</td>\n",
       "      <td>services</td>\n",
       "      <td>...</td>\n",
       "      <td>3</td>\n",
       "      <td>2</td>\n",
       "      <td>2</td>\n",
       "      <td>1</td>\n",
       "      <td>1</td>\n",
       "      <td>5</td>\n",
       "      <td>0</td>\n",
       "      <td>14</td>\n",
       "      <td>14</td>\n",
       "      <td>14</td>\n",
       "    </tr>\n",
       "    <tr>\n",
       "      <th>4</th>\n",
       "      <td>GP</td>\n",
       "      <td>F</td>\n",
       "      <td>16</td>\n",
       "      <td>U</td>\n",
       "      <td>GT3</td>\n",
       "      <td>T</td>\n",
       "      <td>3</td>\n",
       "      <td>3</td>\n",
       "      <td>other</td>\n",
       "      <td>other</td>\n",
       "      <td>...</td>\n",
       "      <td>4</td>\n",
       "      <td>3</td>\n",
       "      <td>2</td>\n",
       "      <td>1</td>\n",
       "      <td>2</td>\n",
       "      <td>5</td>\n",
       "      <td>0</td>\n",
       "      <td>11</td>\n",
       "      <td>13</td>\n",
       "      <td>13</td>\n",
       "    </tr>\n",
       "    <tr>\n",
       "      <th>...</th>\n",
       "      <td>...</td>\n",
       "      <td>...</td>\n",
       "      <td>...</td>\n",
       "      <td>...</td>\n",
       "      <td>...</td>\n",
       "      <td>...</td>\n",
       "      <td>...</td>\n",
       "      <td>...</td>\n",
       "      <td>...</td>\n",
       "      <td>...</td>\n",
       "      <td>...</td>\n",
       "      <td>...</td>\n",
       "      <td>...</td>\n",
       "      <td>...</td>\n",
       "      <td>...</td>\n",
       "      <td>...</td>\n",
       "      <td>...</td>\n",
       "      <td>...</td>\n",
       "      <td>...</td>\n",
       "      <td>...</td>\n",
       "      <td>...</td>\n",
       "    </tr>\n",
       "    <tr>\n",
       "      <th>657</th>\n",
       "      <td>MS</td>\n",
       "      <td>F</td>\n",
       "      <td>19</td>\n",
       "      <td>U</td>\n",
       "      <td>LE3</td>\n",
       "      <td>T</td>\n",
       "      <td>3</td>\n",
       "      <td>2</td>\n",
       "      <td>services</td>\n",
       "      <td>services</td>\n",
       "      <td>...</td>\n",
       "      <td>3</td>\n",
       "      <td>2</td>\n",
       "      <td>2</td>\n",
       "      <td>1</td>\n",
       "      <td>1</td>\n",
       "      <td>3</td>\n",
       "      <td>4</td>\n",
       "      <td>7</td>\n",
       "      <td>7</td>\n",
       "      <td>9</td>\n",
       "    </tr>\n",
       "    <tr>\n",
       "      <th>658</th>\n",
       "      <td>MS</td>\n",
       "      <td>F</td>\n",
       "      <td>20</td>\n",
       "      <td>U</td>\n",
       "      <td>GT3</td>\n",
       "      <td>T</td>\n",
       "      <td>4</td>\n",
       "      <td>2</td>\n",
       "      <td>health</td>\n",
       "      <td>other</td>\n",
       "      <td>...</td>\n",
       "      <td>5</td>\n",
       "      <td>4</td>\n",
       "      <td>3</td>\n",
       "      <td>1</td>\n",
       "      <td>1</td>\n",
       "      <td>3</td>\n",
       "      <td>4</td>\n",
       "      <td>15</td>\n",
       "      <td>14</td>\n",
       "      <td>15</td>\n",
       "    </tr>\n",
       "    <tr>\n",
       "      <th>659</th>\n",
       "      <td>MS</td>\n",
       "      <td>M</td>\n",
       "      <td>20</td>\n",
       "      <td>U</td>\n",
       "      <td>LE3</td>\n",
       "      <td>A</td>\n",
       "      <td>2</td>\n",
       "      <td>2</td>\n",
       "      <td>services</td>\n",
       "      <td>services</td>\n",
       "      <td>...</td>\n",
       "      <td>5</td>\n",
       "      <td>5</td>\n",
       "      <td>4</td>\n",
       "      <td>4</td>\n",
       "      <td>5</td>\n",
       "      <td>4</td>\n",
       "      <td>11</td>\n",
       "      <td>9</td>\n",
       "      <td>9</td>\n",
       "      <td>9</td>\n",
       "    </tr>\n",
       "    <tr>\n",
       "      <th>660</th>\n",
       "      <td>MS</td>\n",
       "      <td>M</td>\n",
       "      <td>21</td>\n",
       "      <td>R</td>\n",
       "      <td>GT3</td>\n",
       "      <td>T</td>\n",
       "      <td>1</td>\n",
       "      <td>1</td>\n",
       "      <td>other</td>\n",
       "      <td>other</td>\n",
       "      <td>...</td>\n",
       "      <td>5</td>\n",
       "      <td>5</td>\n",
       "      <td>3</td>\n",
       "      <td>3</td>\n",
       "      <td>3</td>\n",
       "      <td>3</td>\n",
       "      <td>3</td>\n",
       "      <td>10</td>\n",
       "      <td>8</td>\n",
       "      <td>7</td>\n",
       "    </tr>\n",
       "    <tr>\n",
       "      <th>661</th>\n",
       "      <td>MS</td>\n",
       "      <td>M</td>\n",
       "      <td>19</td>\n",
       "      <td>U</td>\n",
       "      <td>LE3</td>\n",
       "      <td>T</td>\n",
       "      <td>1</td>\n",
       "      <td>1</td>\n",
       "      <td>other</td>\n",
       "      <td>at_home</td>\n",
       "      <td>...</td>\n",
       "      <td>3</td>\n",
       "      <td>2</td>\n",
       "      <td>3</td>\n",
       "      <td>3</td>\n",
       "      <td>3</td>\n",
       "      <td>5</td>\n",
       "      <td>5</td>\n",
       "      <td>8</td>\n",
       "      <td>9</td>\n",
       "      <td>9</td>\n",
       "    </tr>\n",
       "  </tbody>\n",
       "</table>\n",
       "<p>662 rows × 33 columns</p>\n",
       "</div>"
      ],
      "text/plain": [
       "    school sex age address famsize Pstatus Medu Fedu      Mjob      Fjob  ...  \\\n",
       "0       GP   F  18       U     GT3       A    4    4   at_home   teacher  ...   \n",
       "1       GP   F  17       U     GT3       T    1    1   at_home     other  ...   \n",
       "2       GP   F  15       U     LE3       T    1    1   at_home     other  ...   \n",
       "3       GP   F  15       U     GT3       T    4    2    health  services  ...   \n",
       "4       GP   F  16       U     GT3       T    3    3     other     other  ...   \n",
       "..     ...  ..  ..     ...     ...     ...  ...  ...       ...       ...  ...   \n",
       "657     MS   F  19       U     LE3       T    3    2  services  services  ...   \n",
       "658     MS   F  20       U     GT3       T    4    2    health     other  ...   \n",
       "659     MS   M  20       U     LE3       A    2    2  services  services  ...   \n",
       "660     MS   M  21       R     GT3       T    1    1     other     other  ...   \n",
       "661     MS   M  19       U     LE3       T    1    1     other   at_home  ...   \n",
       "\n",
       "    famrel freetime goout Dalc Walc health absences  G1  G2  G3  \n",
       "0        4        3     4    1    1      3        4   0  11  11  \n",
       "1        5        3     3    1    1      3        2   9  11  11  \n",
       "2        4        3     2    2    3      3        6  12  13  12  \n",
       "3        3        2     2    1    1      5        0  14  14  14  \n",
       "4        4        3     2    1    2      5        0  11  13  13  \n",
       "..     ...      ...   ...  ...  ...    ...      ...  ..  ..  ..  \n",
       "657      3        2     2    1    1      3        4   7   7   9  \n",
       "658      5        4     3    1    1      3        4  15  14  15  \n",
       "659      5        5     4    4    5      4       11   9   9   9  \n",
       "660      5        5     3    3    3      3        3  10   8   7  \n",
       "661      3        2     3    3    3      5        5   8   9   9  \n",
       "\n",
       "[662 rows x 33 columns]"
      ]
     },
     "execution_count": 2,
     "metadata": {},
     "output_type": "execute_result"
    }
   ],
   "source": [
    "df_port = pd.DataFrame(students_por)\n",
    "df_math = pd.DataFrame(students_math)\n",
    "df_combine =  pd.concat([df_port,df_math])\n",
    "df_combine = df_combine.reset_index()\n",
    "considered = [\"school\",\"sex\",\"age\",\"address\",\"famsize\",\"Pstatus\",\"Medu\",\"Fedu\",\"Mjob\",\"Fjob\",\"reason\",\"nursery\",\"internet\"]\n",
    "df_combine = df_combine.drop(labels = 'index', axis=1)\n",
    "df_combine = df_combine.drop_duplicates(subset=considered,ignore_index = True)\n",
    "df_combine"
   ]
  },
  {
   "cell_type": "code",
   "execution_count": 3,
   "id": "0583be81",
   "metadata": {},
   "outputs": [],
   "source": [
    "df_combine['age'] = df_combine['age'].apply(pd.to_numeric)\n",
    "df_combine['Medu'] = df_combine['Medu'].apply(pd.to_numeric)\n",
    "df_combine['Fedu'] = df_combine['Fedu'].apply(pd.to_numeric)\n",
    "df_combine['traveltime'] = df_combine['traveltime'].apply(pd.to_numeric)\n",
    "df_combine['studytime'] = df_combine['studytime'].apply(pd.to_numeric)\n",
    "df_combine['famrel'] = df_combine['famrel'].apply(pd.to_numeric)\n",
    "df_combine['freetime'] = df_combine['freetime'].apply(pd.to_numeric)\n",
    "df_combine['goout'] = df_combine['goout'].apply(pd.to_numeric)\n",
    "df_combine['Dalc'] = df_combine['Dalc'].apply(pd.to_numeric)\n",
    "df_combine['Walc'] = df_combine['Walc'].apply(pd.to_numeric)\n",
    "df_combine['health'] = df_combine['health'].apply(pd.to_numeric)\n",
    "df_combine['absences'] = df_combine['absences'].apply(pd.to_numeric)\n",
    "df_combine['G1'] = df_combine['G1'].apply(pd.to_numeric)\n",
    "df_combine['G2'] = df_combine['G2'].apply(pd.to_numeric)\n",
    "df_combine['G3'] = df_combine['G3'].apply(pd.to_numeric)"
   ]
  },
  {
   "cell_type": "code",
   "execution_count": 4,
   "id": "488ba142",
   "metadata": {},
   "outputs": [],
   "source": [
    "df_combine= df_combine.dropna(how=\"any\")"
   ]
  },
  {
   "cell_type": "markdown",
   "id": "b2052f80",
   "metadata": {},
   "source": [
    "**Exploring The Data**"
   ]
  },
  {
   "cell_type": "markdown",
   "id": "6e6eaad9",
   "metadata": {},
   "source": [
    "1.) What are the different columns and how many are there\n",
    "\n",
    "2.) how do the students surveyed range in age\n",
    "\n",
    "3.) how many math students were surveyed compared to portuguse students\n",
    "\n",
    "4.) is there even distribution of male vs female students surveyed\n",
    "\n",
    "5.) what are the different job categories in the table\n",
    "\n",
    "6.) how many attend each students attend each school out of the students surveyed\n",
    "\n"
   ]
  },
  {
   "cell_type": "code",
   "execution_count": 5,
   "id": "78fded06",
   "metadata": {},
   "outputs": [
    {
     "name": "stdout",
     "output_type": "stream",
     "text": [
      "Index(['school', 'sex', 'age', 'address', 'famsize', 'Pstatus', 'Medu', 'Fedu',\n",
      "       'Mjob', 'Fjob', 'reason', 'guardian', 'traveltime', 'studytime',\n",
      "       'failures', 'schoolsup', 'famsup', 'paid', 'activities', 'nursery',\n",
      "       'higher', 'internet', 'romantic', 'famrel', 'freetime', 'goout', 'Dalc',\n",
      "       'Walc', 'health', 'absences', 'G1', 'G2', 'G3'],\n",
      "      dtype='object')\n",
      "total columns: 33\n"
     ]
    }
   ],
   "source": [
    "print(df_combine.keys())\n",
    "print('total columns: %d'%len(df_combine.keys()))"
   ]
  },
  {
   "cell_type": "markdown",
   "id": "648cbca0",
   "metadata": {},
   "source": [
    "from this we can see that there are 33 different statistic tracked ignoring index column"
   ]
  },
  {
   "cell_type": "code",
   "execution_count": 6,
   "id": "0c404bbe",
   "metadata": {},
   "outputs": [
    {
     "name": "stdout",
     "output_type": "stream",
     "text": [
      "Math Students Surveyed: 395\n",
      "Portuguese Students Surveyed: 649\n"
     ]
    }
   ],
   "source": [
    "print(\"Math Students Surveyed: %d\"%len(df_math))\n",
    "print(\"Portuguese Students Surveyed: %d\"%len(df_port))"
   ]
  },
  {
   "cell_type": "markdown",
   "id": "3612a854",
   "metadata": {},
   "source": [
    "From this we can see that more portugese language students surveyed compared to math students"
   ]
  },
  {
   "cell_type": "code",
   "execution_count": 7,
   "id": "79e83fd8",
   "metadata": {},
   "outputs": [
    {
     "data": {
      "text/plain": [
       "F    390\n",
       "M    272\n",
       "Name: sex, dtype: int64"
      ]
     },
     "execution_count": 7,
     "metadata": {},
     "output_type": "execute_result"
    },
    {
     "data": {
      "image/png": "[encoded data removed]",
      "text/plain": [
       "<Figure size 360x360 with 1 Axes>"
      ]
     },
     "metadata": {
      "needs_background": "light"
     },
     "output_type": "display_data"
    }
   ],
   "source": [
    "sns.catplot(data=df_combine,kind='count', x=\"sex\")\n",
    "df_combine['sex'].value_counts()"
   ]
  },
  {
   "cell_type": "markdown",
   "id": "ebbde026",
   "metadata": {},
   "source": [
    "from this we can see that slightly more female students were surveyed than male students."
   ]
  },
  {
   "cell_type": "code",
   "execution_count": 8,
   "id": "4fea75aa",
   "metadata": {},
   "outputs": [
    {
     "name": "stdout",
     "output_type": "stream",
     "text": [
      "minimun age: 15\n",
      "maximun age: 22\n",
      "range:       7\n"
     ]
    }
   ],
   "source": [
    "print(\"minimun age: %d\"%df_combine['age'].min())\n",
    "print(\"maximun age: %d\"%df_combine['age'].max())\n",
    "print(\"range:       %d\"%(df_combine['age'].max()-df_combine['age'].min()))"
   ]
  },
  {
   "cell_type": "markdown",
   "id": "68d4c41e",
   "metadata": {},
   "source": [
    "from this we can see that the youngest students surveyed were 15 and the oldest were 22 this gives us a range of 7"
   ]
  },
  {
   "cell_type": "code",
   "execution_count": 9,
   "id": "d6398de6",
   "metadata": {},
   "outputs": [
    {
     "data": {
      "text/plain": [
       "array(['at_home', 'health', 'other', 'services', 'teacher'], dtype=object)"
      ]
     },
     "execution_count": 9,
     "metadata": {},
     "output_type": "execute_result"
    }
   ],
   "source": [
    "np.unique(df_combine[['Fjob','Mjob']])"
   ]
  },
  {
   "cell_type": "markdown",
   "id": "63f8b518",
   "metadata": {},
   "source": [
    "7.)If a student has at least one parent working their job from home, then are they more likely to drink alcohol? Take all the data of kids with at least one parent that works from home, and check if it's common for the kid to drink alcohol."
   ]
  },
  {
   "cell_type": "code",
   "execution_count": 10,
   "id": "f14cf8a2",
   "metadata": {},
   "outputs": [
    {
     "data": {
      "text/plain": [
       "GP    434\n",
       "MS    228\n",
       "Name: school, dtype: int64"
      ]
     },
     "execution_count": 10,
     "metadata": {},
     "output_type": "execute_result"
    },
    {
     "data": {
      "image/png": "[encoded data removed]",
      "text/plain": [
       "<Figure size 360x360 with 1 Axes>"
      ]
     },
     "metadata": {
      "needs_background": "light"
     },
     "output_type": "display_data"
    }
   ],
   "source": [
    "sns.catplot(data=df_combine,kind='count', x=\"school\")\n",
    "df_combine['school'].value_counts()"
   ]
  },
  {
   "cell_type": "markdown",
   "id": "9f1cc8f6",
   "metadata": {},
   "source": [
    "from the graph we can see that a moderate amount more students from GP then from MS that were surveyed"
   ]
  },
  {
   "cell_type": "markdown",
   "id": "3622f3dc",
   "metadata": {},
   "source": [
    "**Question 7**\n",
    "\n",
    "do students who have one parent at home tend to drink less? To do this we will find all the students who have atleast one parent at home and assign then value each student depending on if they have one parent who stays at home.  we can then graph the students alchol consumption based on weekend and weekdays and compare trends to determine if there is a correlation. we can then calculate ratios for each of alchol consuptions amongst each group and see which what percentage of students fall under what alchol consuption group.  if the ratios are significantly different and their trends dont match its safe to say there is some correlation between the two. However if the ratio are simalar and the trends match its safe to say that there is no correlation between a students drinking habbits and weather they have one parent at home."
   ]
  },
  {
   "cell_type": "code",
   "execution_count": 11,
   "id": "f8013d66",
   "metadata": {},
   "outputs": [
    {
     "name": "stdout",
     "output_type": "stream",
     "text": [
      "0    493\n",
      "1    169\n",
      "Name: P_at_home, dtype: int64\n"
     ]
    }
   ],
   "source": [
    "def is_at_home(x):\n",
    "    if x == 'at_home':\n",
    "        return True\n",
    "    \n",
    "    return False\n",
    "def one_at_home(x,y):\n",
    "    one = []\n",
    "    for i in range(len(x)):\n",
    "        if x[i] == 1 or y[i] ==1:\n",
    "            one.append(1)\n",
    "        else:\n",
    "            one.append(0)\n",
    "    return one \n",
    "\n",
    "\n",
    "M_at_home = df_combine['Mjob'].apply(is_at_home)\n",
    "F_at_home = df_combine['Fjob'].apply(is_at_home)\n",
    "o_at_home = one_at_home(M_at_home,F_at_home)\n",
    "\n",
    "\n",
    "df_combine.insert(column='P_at_home',loc=33,value=o_at_home)\n",
    "count_has_p_home = df_combine['P_at_home'].value_counts()\n",
    "print(count_has_p_home)"
   ]
  },
  {
   "cell_type": "code",
   "execution_count": 12,
   "id": "6575d140",
   "metadata": {},
   "outputs": [
    {
     "data": {
      "text/html": [
       "<div>\n",
       "<style scoped>\n",
       "    .dataframe tbody tr th:only-of-type {\n",
       "        vertical-align: middle;\n",
       "    }\n",
       "\n",
       "    .dataframe tbody tr th {\n",
       "        vertical-align: top;\n",
       "    }\n",
       "\n",
       "    .dataframe thead tr th {\n",
       "        text-align: left;\n",
       "    }\n",
       "\n",
       "    .dataframe thead tr:last-of-type th {\n",
       "        text-align: right;\n",
       "    }\n",
       "</style>\n",
       "<table border=\"1\" class=\"dataframe\">\n",
       "  <thead>\n",
       "    <tr>\n",
       "      <th></th>\n",
       "      <th colspan=\"5\" halign=\"left\">Fjob</th>\n",
       "    </tr>\n",
       "    <tr>\n",
       "      <th>Dalc</th>\n",
       "      <th>1</th>\n",
       "      <th>2</th>\n",
       "      <th>3</th>\n",
       "      <th>4</th>\n",
       "      <th>5</th>\n",
       "    </tr>\n",
       "    <tr>\n",
       "      <th>P_at_home</th>\n",
       "      <th></th>\n",
       "      <th></th>\n",
       "      <th></th>\n",
       "      <th></th>\n",
       "      <th></th>\n",
       "    </tr>\n",
       "  </thead>\n",
       "  <tbody>\n",
       "    <tr>\n",
       "      <th>0</th>\n",
       "      <td>340</td>\n",
       "      <td>92</td>\n",
       "      <td>34</td>\n",
       "      <td>14</td>\n",
       "      <td>13</td>\n",
       "    </tr>\n",
       "    <tr>\n",
       "      <th>1</th>\n",
       "      <td>119</td>\n",
       "      <td>31</td>\n",
       "      <td>11</td>\n",
       "      <td>4</td>\n",
       "      <td>4</td>\n",
       "    </tr>\n",
       "  </tbody>\n",
       "</table>\n",
       "</div>"
      ],
      "text/plain": [
       "          Fjob                \n",
       "Dalc         1   2   3   4   5\n",
       "P_at_home                     \n",
       "0          340  92  34  14  13\n",
       "1          119  31  11   4   4"
      ]
     },
     "execution_count": 12,
     "metadata": {},
     "output_type": "execute_result"
    },
    {
     "data": {
      "image/png": "[encoded data removed]",
      "text/plain": [
       "<Figure size 422.125x360 with 1 Axes>"
      ]
     },
     "metadata": {
      "needs_background": "light"
     },
     "output_type": "display_data"
    }
   ],
   "source": [
    "Dplot = sns.catplot(data=df_combine,kind='count', x=\"Dalc\", hue=\"P_at_home\")\n",
    "\n",
    "Dalc_pivot = pd.pivot_table(data=df_combine,values=['Fjob'],index=['P_at_home'], columns=['Dalc'],aggfunc='count')\n",
    "Dalc_pivot"
   ]
  },
  {
   "cell_type": "code",
   "execution_count": 13,
   "id": "52b78ce0",
   "metadata": {},
   "outputs": [
    {
     "name": "stdout",
     "output_type": "stream",
     "text": [
      "No Parents a home ratio for 1: 0.69\n",
      "Parents a home ratio for 1: 0.70\n",
      "\n",
      "No Parents a home ratio for 2: 0.19\n",
      "Parents a home ratio for 2: 0.18\n",
      "\n",
      "No Parents a home ratio for 3: 0.07\n",
      "Parents a home ratio for 3: 0.07\n",
      "\n",
      "No Parents a home ratio for 4: 0.03\n",
      "Parents a home ratio for 4: 0.02\n",
      "\n",
      "No Parents a home ratio for 5: 0.03\n",
      "Parents a home ratio for 5: 0.02\n",
      "\n"
     ]
    }
   ],
   "source": [
    "for i in range(5):\n",
    "    p1 = Dalc_pivot.loc[0][i]/count_has_p_home.loc[0]\n",
    "    p2 = Dalc_pivot.loc[1][i]/count_has_p_home.loc[1]\n",
    "    print('No Parents a home ratio for %d: %.2f'%(i+1,p1))\n",
    "    print('Parents a home ratio for %d: %.2f'%(i+1,p2))\n",
    "    print()\n",
    "    "
   ]
  },
  {
   "cell_type": "code",
   "execution_count": 14,
   "id": "106a64db",
   "metadata": {},
   "outputs": [
    {
     "data": {
      "text/html": [
       "<div>\n",
       "<style scoped>\n",
       "    .dataframe tbody tr th:only-of-type {\n",
       "        vertical-align: middle;\n",
       "    }\n",
       "\n",
       "    .dataframe tbody tr th {\n",
       "        vertical-align: top;\n",
       "    }\n",
       "\n",
       "    .dataframe thead tr th {\n",
       "        text-align: left;\n",
       "    }\n",
       "\n",
       "    .dataframe thead tr:last-of-type th {\n",
       "        text-align: right;\n",
       "    }\n",
       "</style>\n",
       "<table border=\"1\" class=\"dataframe\">\n",
       "  <thead>\n",
       "    <tr>\n",
       "      <th></th>\n",
       "      <th colspan=\"5\" halign=\"left\">Fjob</th>\n",
       "    </tr>\n",
       "    <tr>\n",
       "      <th>Walc</th>\n",
       "      <th>1</th>\n",
       "      <th>2</th>\n",
       "      <th>3</th>\n",
       "      <th>4</th>\n",
       "      <th>5</th>\n",
       "    </tr>\n",
       "    <tr>\n",
       "      <th>P_at_home</th>\n",
       "      <th></th>\n",
       "      <th></th>\n",
       "      <th></th>\n",
       "      <th></th>\n",
       "      <th></th>\n",
       "    </tr>\n",
       "  </thead>\n",
       "  <tbody>\n",
       "    <tr>\n",
       "      <th>0</th>\n",
       "      <td>182</td>\n",
       "      <td>112</td>\n",
       "      <td>96</td>\n",
       "      <td>70</td>\n",
       "      <td>33</td>\n",
       "    </tr>\n",
       "    <tr>\n",
       "      <th>1</th>\n",
       "      <td>72</td>\n",
       "      <td>35</td>\n",
       "      <td>28</td>\n",
       "      <td>21</td>\n",
       "      <td>13</td>\n",
       "    </tr>\n",
       "  </tbody>\n",
       "</table>\n",
       "</div>"
      ],
      "text/plain": [
       "          Fjob                 \n",
       "Walc         1    2   3   4   5\n",
       "P_at_home                      \n",
       "0          182  112  96  70  33\n",
       "1           72   35  28  21  13"
      ]
     },
     "execution_count": 14,
     "metadata": {},
     "output_type": "execute_result"
    },
    {
     "data": {
      "image/png": "[encoded data removed]",
      "text/plain": [
       "<Figure size 422.125x360 with 1 Axes>"
      ]
     },
     "metadata": {
      "needs_background": "light"
     },
     "output_type": "display_data"
    }
   ],
   "source": [
    "sns.catplot(data=df_combine,kind='count', x=\"Walc\", hue=\"P_at_home\")\n",
    "Walc_pivot = pd.pivot_table(data=df_combine,values=['Fjob'],index=['P_at_home'], columns=['Walc'],aggfunc='count')\n",
    "Walc_pivot"
   ]
  },
  {
   "cell_type": "code",
   "execution_count": 19,
   "id": "fe84bd6a",
   "metadata": {},
   "outputs": [
    {
     "name": "stdout",
     "output_type": "stream",
     "text": [
      "ratios for Walc\n",
      "No Parents a home ratio for 1: 0.37\n",
      "Parents a home ratio for 1: 0.43\n",
      "\n",
      "No Parents a home ratio for 2: 0.23\n",
      "Parents a home ratio for 2: 0.21\n",
      "\n",
      "No Parents a home ratio for 3: 0.19\n",
      "Parents a home ratio for 3: 0.17\n",
      "\n",
      "No Parents a home ratio for 4: 0.14\n",
      "Parents a home ratio for 4: 0.12\n",
      "\n",
      "No Parents a home ratio for 5: 0.07\n",
      "Parents a home ratio for 5: 0.08\n",
      "\n",
      "ratios for Dalc\n",
      "No Parents a home ratio for 1: 0.69\n",
      "Parents a home ratio for 1: 0.70\n",
      "\n",
      "No Parents a home ratio for 2: 0.19\n",
      "Parents a home ratio for 2: 0.18\n",
      "\n",
      "No Parents a home ratio for 3: 0.07\n",
      "Parents a home ratio for 3: 0.07\n",
      "\n",
      "No Parents a home ratio for 4: 0.03\n",
      "Parents a home ratio for 4: 0.02\n",
      "\n",
      "No Parents a home ratio for 5: 0.03\n",
      "Parents a home ratio for 5: 0.02\n",
      "\n"
     ]
    }
   ],
   "source": [
    "print(\"ratios for Walc\")\n",
    "for i in range(5):\n",
    "    p1 = Walc_pivot.loc[0][i]/count_has_p_home.loc[0]\n",
    "    p2 = Walc_pivot.loc[1][i]/count_has_p_home.loc[1]\n",
    "    print('No Parents a home ratio for %d: %.2f'%(i+1,p1))\n",
    "    print('Parents a home ratio for %d: %.2f'%(i+1,p2))\n",
    "    print()\n",
    "print(\"ratios for Dalc\")\n",
    "for i in range(5):\n",
    "    p1 = Dalc_pivot.loc[0][i]/count_has_p_home.loc[0]\n",
    "    p2 = Dalc_pivot.loc[1][i]/count_has_p_home.loc[1]\n",
    "    print('No Parents a home ratio for %d: %.2f'%(i+1,p1))\n",
    "    print('Parents a home ratio for %d: %.2f'%(i+1,p2))\n",
    "    print()"
   ]
  },
  {
   "cell_type": "markdown",
   "id": "fbf41d0c",
   "metadata": {},
   "source": [
    "from the graphs and calculated ratios above we can see that both graphs follow simalar trends regardless of weather or not the students have parents at home or not.  and looking at the calcualted ratios we can see that they are near identical for for the students with one parent at home and the no parents at home.  with the percentages being within 1 to 2 percent of each other and the difference being 6%.  all of this would seem to suggest very little if no correlation between a students drinking habits and weather or not they have a parent at home. an somewhat obvious way this method is flawed is in the difference in datapoints we have for students with parents vs students without parents at home."
   ]
  },
  {
   "cell_type": "markdown",
   "id": "36889aed",
   "metadata": {},
   "source": [
    "**Question 8**\n",
    "\n",
    "Do Students with poor family realtion drink more then those with good on. to do this we will break the students up into groups based on the qualtiy of there family relations and track trends amongst the groups. "
   ]
  },
  {
   "cell_type": "code",
   "execution_count": 138,
   "id": "c5df8310",
   "metadata": {},
   "outputs": [
    {
     "data": {
      "text/html": [
       "<div>\n",
       "<style scoped>\n",
       "    .dataframe tbody tr th:only-of-type {\n",
       "        vertical-align: middle;\n",
       "    }\n",
       "\n",
       "    .dataframe tbody tr th {\n",
       "        vertical-align: top;\n",
       "    }\n",
       "\n",
       "    .dataframe thead tr th {\n",
       "        text-align: left;\n",
       "    }\n",
       "\n",
       "    .dataframe thead tr:last-of-type th {\n",
       "        text-align: right;\n",
       "    }\n",
       "</style>\n",
       "<table border=\"1\" class=\"dataframe\">\n",
       "  <thead>\n",
       "    <tr>\n",
       "      <th></th>\n",
       "      <th colspan=\"5\" halign=\"left\">Fjob</th>\n",
       "    </tr>\n",
       "    <tr>\n",
       "      <th>Walc</th>\n",
       "      <th>1</th>\n",
       "      <th>2</th>\n",
       "      <th>3</th>\n",
       "      <th>4</th>\n",
       "      <th>5</th>\n",
       "    </tr>\n",
       "    <tr>\n",
       "      <th>famrel</th>\n",
       "      <th></th>\n",
       "      <th></th>\n",
       "      <th></th>\n",
       "      <th></th>\n",
       "      <th></th>\n",
       "    </tr>\n",
       "  </thead>\n",
       "  <tbody>\n",
       "    <tr>\n",
       "      <th>1</th>\n",
       "      <td>6</td>\n",
       "      <td>6</td>\n",
       "      <td>4</td>\n",
       "      <td>0</td>\n",
       "      <td>4</td>\n",
       "    </tr>\n",
       "    <tr>\n",
       "      <th>2</th>\n",
       "      <td>9</td>\n",
       "      <td>5</td>\n",
       "      <td>5</td>\n",
       "      <td>7</td>\n",
       "      <td>3</td>\n",
       "    </tr>\n",
       "    <tr>\n",
       "      <th>3</th>\n",
       "      <td>31</td>\n",
       "      <td>25</td>\n",
       "      <td>21</td>\n",
       "      <td>19</td>\n",
       "      <td>7</td>\n",
       "    </tr>\n",
       "    <tr>\n",
       "      <th>4</th>\n",
       "      <td>126</td>\n",
       "      <td>75</td>\n",
       "      <td>65</td>\n",
       "      <td>43</td>\n",
       "      <td>19</td>\n",
       "    </tr>\n",
       "    <tr>\n",
       "      <th>5</th>\n",
       "      <td>82</td>\n",
       "      <td>36</td>\n",
       "      <td>29</td>\n",
       "      <td>22</td>\n",
       "      <td>13</td>\n",
       "    </tr>\n",
       "  </tbody>\n",
       "</table>\n",
       "</div>"
      ],
      "text/plain": [
       "       Fjob                \n",
       "Walc      1   2   3   4   5\n",
       "famrel                     \n",
       "1         6   6   4   0   4\n",
       "2         9   5   5   7   3\n",
       "3        31  25  21  19   7\n",
       "4       126  75  65  43  19\n",
       "5        82  36  29  22  13"
      ]
     },
     "execution_count": 138,
     "metadata": {},
     "output_type": "execute_result"
    },
    {
     "data": {
      "image/png": "[encoded data removed]",
      "text/plain": [
       "<Figure size 402.375x360 with 1 Axes>"
      ]
     },
     "metadata": {
      "needs_background": "light"
     },
     "output_type": "display_data"
    }
   ],
   "source": [
    "sns.catplot(data=df_combine,kind='count', x=\"famrel\", hue=\"Walc\")\n",
    "Walc2_pivot = pd.pivot_table(data=df_combine,values=['Fjob'],index=['famrel'], columns=['Walc'],aggfunc='count',fill_value=0)\n",
    "Walc2_pivot"
   ]
  },
  {
   "cell_type": "code",
   "execution_count": 145,
   "id": "efd28b2c",
   "metadata": {},
   "outputs": [
    {
     "data": {
      "text/html": [
       "<div>\n",
       "<style scoped>\n",
       "    .dataframe tbody tr th:only-of-type {\n",
       "        vertical-align: middle;\n",
       "    }\n",
       "\n",
       "    .dataframe tbody tr th {\n",
       "        vertical-align: top;\n",
       "    }\n",
       "\n",
       "    .dataframe thead tr th {\n",
       "        text-align: left;\n",
       "    }\n",
       "\n",
       "    .dataframe thead tr:last-of-type th {\n",
       "        text-align: right;\n",
       "    }\n",
       "</style>\n",
       "<table border=\"1\" class=\"dataframe\">\n",
       "  <thead>\n",
       "    <tr>\n",
       "      <th></th>\n",
       "      <th colspan=\"5\" halign=\"left\">school</th>\n",
       "    </tr>\n",
       "    <tr>\n",
       "      <th>Dalc</th>\n",
       "      <th>1</th>\n",
       "      <th>2</th>\n",
       "      <th>3</th>\n",
       "      <th>4</th>\n",
       "      <th>5</th>\n",
       "    </tr>\n",
       "    <tr>\n",
       "      <th>famrel</th>\n",
       "      <th></th>\n",
       "      <th></th>\n",
       "      <th></th>\n",
       "      <th></th>\n",
       "      <th></th>\n",
       "    </tr>\n",
       "  </thead>\n",
       "  <tbody>\n",
       "    <tr>\n",
       "      <th>1</th>\n",
       "      <td>10</td>\n",
       "      <td>4</td>\n",
       "      <td>3</td>\n",
       "      <td>2</td>\n",
       "      <td>1</td>\n",
       "    </tr>\n",
       "    <tr>\n",
       "      <th>2</th>\n",
       "      <td>15</td>\n",
       "      <td>9</td>\n",
       "      <td>4</td>\n",
       "      <td>0</td>\n",
       "      <td>1</td>\n",
       "    </tr>\n",
       "    <tr>\n",
       "      <th>3</th>\n",
       "      <td>70</td>\n",
       "      <td>23</td>\n",
       "      <td>4</td>\n",
       "      <td>5</td>\n",
       "      <td>1</td>\n",
       "    </tr>\n",
       "    <tr>\n",
       "      <th>4</th>\n",
       "      <td>227</td>\n",
       "      <td>68</td>\n",
       "      <td>20</td>\n",
       "      <td>6</td>\n",
       "      <td>7</td>\n",
       "    </tr>\n",
       "    <tr>\n",
       "      <th>5</th>\n",
       "      <td>137</td>\n",
       "      <td>19</td>\n",
       "      <td>14</td>\n",
       "      <td>5</td>\n",
       "      <td>7</td>\n",
       "    </tr>\n",
       "  </tbody>\n",
       "</table>\n",
       "</div>"
      ],
      "text/plain": [
       "       school              \n",
       "Dalc        1   2   3  4  5\n",
       "famrel                     \n",
       "1          10   4   3  2  1\n",
       "2          15   9   4  0  1\n",
       "3          70  23   4  5  1\n",
       "4         227  68  20  6  7\n",
       "5         137  19  14  5  7"
      ]
     },
     "execution_count": 145,
     "metadata": {},
     "output_type": "execute_result"
    },
    {
     "data": {
      "image/png": "[encoded data removed]",
      "text/plain": [
       "<Figure size 402.375x360 with 1 Axes>"
      ]
     },
     "metadata": {
      "needs_background": "light"
     },
     "output_type": "display_data"
    }
   ],
   "source": [
    "sns.catplot(data=df_combine,kind='count', x=\"famrel\", hue=\"Dalc\")\n",
    "Dalc2_pivot = pd.pivot_table(data=df_combine,values=['school'],index=['famrel'], columns=['Dalc'],aggfunc='count',fill_value=0)\n",
    "Dalc2_pivot"
   ]
  },
  {
   "cell_type": "code",
   "execution_count": 161,
   "id": "048039d2",
   "metadata": {},
   "outputs": [
    {
     "name": "stdout",
     "output_type": "stream",
     "text": [
      "Dalc \n",
      "\n",
      "\n",
      "group size: 20\n",
      "ratio for drink famrel 1 to Drink 1: 0.50\n",
      "ratio for drink famrel 1 to Drink 2: 0.14\n",
      "ratio for drink famrel 1 to Drink 3: 0.03\n",
      "ratio for drink famrel 1 to Drink 4: 0.01\n",
      "ratio for drink famrel 1 to Drink 5: 0.01\n",
      "\n",
      "group size: 29\n",
      "ratio for drink famrel 2 to Drink 1: 0.75\n",
      "ratio for drink famrel 2 to Drink 2: 0.31\n",
      "ratio for drink famrel 2 to Drink 3: 0.04\n",
      "ratio for drink famrel 2 to Drink 4: 0.00\n",
      "ratio for drink famrel 2 to Drink 5: 0.01\n",
      "\n",
      "group size: 103\n",
      "ratio for drink famrel 3 to Drink 1: 3.50\n",
      "ratio for drink famrel 3 to Drink 2: 0.79\n",
      "ratio for drink famrel 3 to Drink 3: 0.04\n",
      "ratio for drink famrel 3 to Drink 4: 0.02\n",
      "ratio for drink famrel 3 to Drink 5: 0.01\n",
      "\n",
      "group size: 328\n",
      "ratio for drink famrel 4 to Drink 1: 11.35\n",
      "ratio for drink famrel 4 to Drink 2: 2.34\n",
      "ratio for drink famrel 4 to Drink 3: 0.19\n",
      "ratio for drink famrel 4 to Drink 4: 0.02\n",
      "ratio for drink famrel 4 to Drink 5: 0.04\n",
      "\n",
      "group size: 182\n",
      "ratio for drink famrel 5 to Drink 1: 6.85\n",
      "ratio for drink famrel 5 to Drink 2: 0.66\n",
      "ratio for drink famrel 5 to Drink 3: 0.14\n",
      "ratio for drink famrel 5 to Drink 4: 0.02\n",
      "ratio for drink famrel 5 to Drink 5: 0.04\n",
      "\n",
      " Walc\n",
      "\n",
      "group size: 20\n",
      "ratio for drink famrel 1 to Drink 1: 0.50\n",
      "ratio for drink famrel 1 to Drink 2: 0.20\n",
      "ratio for drink famrel 1 to Drink 3: 0.15\n",
      "ratio for drink famrel 1 to Drink 4: 0.10\n",
      "ratio for drink famrel 1 to Drink 5: 0.05\n",
      "\n",
      "group size: 29\n",
      "ratio for drink famrel 2 to Drink 1: 0.52\n",
      "ratio for drink famrel 2 to Drink 2: 0.31\n",
      "ratio for drink famrel 2 to Drink 3: 0.14\n",
      "ratio for drink famrel 2 to Drink 4: 0.00\n",
      "ratio for drink famrel 2 to Drink 5: 0.03\n",
      "\n",
      "group size: 103\n",
      "ratio for drink famrel 3 to Drink 1: 0.68\n",
      "ratio for drink famrel 3 to Drink 2: 0.22\n",
      "ratio for drink famrel 3 to Drink 3: 0.04\n",
      "ratio for drink famrel 3 to Drink 4: 0.05\n",
      "ratio for drink famrel 3 to Drink 5: 0.01\n",
      "\n",
      "group size: 328\n",
      "ratio for drink famrel 4 to Drink 1: 0.69\n",
      "ratio for drink famrel 4 to Drink 2: 0.21\n",
      "ratio for drink famrel 4 to Drink 3: 0.06\n",
      "ratio for drink famrel 4 to Drink 4: 0.02\n",
      "ratio for drink famrel 4 to Drink 5: 0.02\n",
      "\n",
      "group size: 182\n",
      "ratio for drink famrel 5 to Drink 1: 0.75\n",
      "ratio for drink famrel 5 to Drink 2: 0.10\n",
      "ratio for drink famrel 5 to Drink 3: 0.08\n",
      "ratio for drink famrel 5 to Drink 4: 0.03\n",
      "ratio for drink famrel 5 to Drink 5: 0.04\n"
     ]
    },
    {
     "data": {
      "text/html": [
       "<div>\n",
       "<style scoped>\n",
       "    .dataframe tbody tr th:only-of-type {\n",
       "        vertical-align: middle;\n",
       "    }\n",
       "\n",
       "    .dataframe tbody tr th {\n",
       "        vertical-align: top;\n",
       "    }\n",
       "\n",
       "    .dataframe thead th {\n",
       "        text-align: right;\n",
       "    }\n",
       "</style>\n",
       "<table border=\"1\" class=\"dataframe\">\n",
       "  <thead>\n",
       "    <tr style=\"text-align: right;\">\n",
       "      <th></th>\n",
       "      <th>1</th>\n",
       "      <th>2</th>\n",
       "      <th>3</th>\n",
       "      <th>4</th>\n",
       "      <th>5</th>\n",
       "    </tr>\n",
       "  </thead>\n",
       "  <tbody>\n",
       "    <tr>\n",
       "      <th>0</th>\n",
       "      <td>0.50</td>\n",
       "      <td>0.517241</td>\n",
       "      <td>0.679612</td>\n",
       "      <td>0.692073</td>\n",
       "      <td>0.752747</td>\n",
       "    </tr>\n",
       "    <tr>\n",
       "      <th>1</th>\n",
       "      <td>0.20</td>\n",
       "      <td>0.310345</td>\n",
       "      <td>0.223301</td>\n",
       "      <td>0.207317</td>\n",
       "      <td>0.104396</td>\n",
       "    </tr>\n",
       "    <tr>\n",
       "      <th>2</th>\n",
       "      <td>0.15</td>\n",
       "      <td>0.137931</td>\n",
       "      <td>0.038835</td>\n",
       "      <td>0.060976</td>\n",
       "      <td>0.076923</td>\n",
       "    </tr>\n",
       "    <tr>\n",
       "      <th>3</th>\n",
       "      <td>0.10</td>\n",
       "      <td>0.000000</td>\n",
       "      <td>0.048544</td>\n",
       "      <td>0.018293</td>\n",
       "      <td>0.027473</td>\n",
       "    </tr>\n",
       "    <tr>\n",
       "      <th>4</th>\n",
       "      <td>0.05</td>\n",
       "      <td>0.034483</td>\n",
       "      <td>0.009709</td>\n",
       "      <td>0.021341</td>\n",
       "      <td>0.038462</td>\n",
       "    </tr>\n",
       "  </tbody>\n",
       "</table>\n",
       "</div>"
      ],
      "text/plain": [
       "      1         2         3         4         5\n",
       "0  0.50  0.517241  0.679612  0.692073  0.752747\n",
       "1  0.20  0.310345  0.223301  0.207317  0.104396\n",
       "2  0.15  0.137931  0.038835  0.060976  0.076923\n",
       "3  0.10  0.000000  0.048544  0.018293  0.027473\n",
       "4  0.05  0.034483  0.009709  0.021341  0.038462"
      ]
     },
     "execution_count": 161,
     "metadata": {},
     "output_type": "execute_result"
    },
    {
     "data": {
      "image/png": "[encoded data removed]",
      "text/plain": [
       "<Figure size 432x288 with 1 Axes>"
      ]
     },
     "metadata": {
      "needs_background": "light"
     },
     "output_type": "display_data"
    }
   ],
   "source": [
    "print('Dalc \\n')\n",
    "thing = []\n",
    "for i in range(0,5):\n",
    "    group_size = Dalc2_pivot.iloc[i].sum() \n",
    "    print()\n",
    "    print('group size: %d'%group_size)\n",
    "    i_data =[]\n",
    "    for j in range(0,5):\n",
    "        group_size = Dalc2_pivot.iloc[j].sum() \n",
    "        p = Dalc2_pivot.iloc[i][j]/group_size\n",
    "        i_data.append(Dalc2_pivot.iloc[j][i]/group_size)\n",
    "        print('ratio for drink famrel %d to Drink %d: %.2f'%(i+1,j+1,p))\n",
    "    thing.append(i_data)\n",
    "dr_df = pd.DataFrame(data=thing,columns=[1,2,3,4,5])\n",
    " \n",
    "dr_df.plot()\n",
    "dr_df"
   ]
  },
  {
   "cell_type": "code",
   "execution_count": 165,
   "id": "a29cbdb5",
   "metadata": {},
   "outputs": [
    {
     "name": "stdout",
     "output_type": "stream",
     "text": [
      "Dalc \n",
      "\n",
      "\n",
      "group size: 182\n",
      "ratio for drink famrel 1 to Drink 1: 0.30\n",
      "ratio for drink famrel 1 to Drink 2: 0.30\n",
      "ratio for drink famrel 1 to Drink 3: 0.20\n",
      "ratio for drink famrel 1 to Drink 4: 0.00\n",
      "ratio for drink famrel 1 to Drink 5: 0.20\n",
      "\n",
      "group size: 182\n",
      "ratio for drink famrel 2 to Drink 1: 0.31\n",
      "ratio for drink famrel 2 to Drink 2: 0.17\n",
      "ratio for drink famrel 2 to Drink 3: 0.17\n",
      "ratio for drink famrel 2 to Drink 4: 0.24\n",
      "ratio for drink famrel 2 to Drink 5: 0.10\n",
      "\n",
      "group size: 182\n",
      "ratio for drink famrel 3 to Drink 1: 0.30\n",
      "ratio for drink famrel 3 to Drink 2: 0.24\n",
      "ratio for drink famrel 3 to Drink 3: 0.20\n",
      "ratio for drink famrel 3 to Drink 4: 0.18\n",
      "ratio for drink famrel 3 to Drink 5: 0.07\n",
      "\n",
      "group size: 182\n",
      "ratio for drink famrel 4 to Drink 1: 0.38\n",
      "ratio for drink famrel 4 to Drink 2: 0.23\n",
      "ratio for drink famrel 4 to Drink 3: 0.20\n",
      "ratio for drink famrel 4 to Drink 4: 0.13\n",
      "ratio for drink famrel 4 to Drink 5: 0.06\n",
      "\n",
      "group size: 182\n",
      "ratio for drink famrel 5 to Drink 1: 0.45\n",
      "ratio for drink famrel 5 to Drink 2: 0.20\n",
      "ratio for drink famrel 5 to Drink 3: 0.16\n",
      "ratio for drink famrel 5 to Drink 4: 0.12\n",
      "ratio for drink famrel 5 to Drink 5: 0.07\n"
     ]
    },
    {
     "data": {
      "text/html": [
       "<div>\n",
       "<style scoped>\n",
       "    .dataframe tbody tr th:only-of-type {\n",
       "        vertical-align: middle;\n",
       "    }\n",
       "\n",
       "    .dataframe tbody tr th {\n",
       "        vertical-align: top;\n",
       "    }\n",
       "\n",
       "    .dataframe thead th {\n",
       "        text-align: right;\n",
       "    }\n",
       "</style>\n",
       "<table border=\"1\" class=\"dataframe\">\n",
       "  <thead>\n",
       "    <tr style=\"text-align: right;\">\n",
       "      <th></th>\n",
       "      <th>1</th>\n",
       "      <th>2</th>\n",
       "      <th>3</th>\n",
       "      <th>4</th>\n",
       "      <th>5</th>\n",
       "    </tr>\n",
       "  </thead>\n",
       "  <tbody>\n",
       "    <tr>\n",
       "      <th>0</th>\n",
       "      <td>0.3</td>\n",
       "      <td>0.310345</td>\n",
       "      <td>0.300971</td>\n",
       "      <td>0.384146</td>\n",
       "      <td>0.450549</td>\n",
       "    </tr>\n",
       "    <tr>\n",
       "      <th>1</th>\n",
       "      <td>0.3</td>\n",
       "      <td>0.172414</td>\n",
       "      <td>0.242718</td>\n",
       "      <td>0.228659</td>\n",
       "      <td>0.197802</td>\n",
       "    </tr>\n",
       "    <tr>\n",
       "      <th>2</th>\n",
       "      <td>0.2</td>\n",
       "      <td>0.172414</td>\n",
       "      <td>0.203883</td>\n",
       "      <td>0.198171</td>\n",
       "      <td>0.159341</td>\n",
       "    </tr>\n",
       "    <tr>\n",
       "      <th>3</th>\n",
       "      <td>0.0</td>\n",
       "      <td>0.241379</td>\n",
       "      <td>0.184466</td>\n",
       "      <td>0.131098</td>\n",
       "      <td>0.120879</td>\n",
       "    </tr>\n",
       "    <tr>\n",
       "      <th>4</th>\n",
       "      <td>0.2</td>\n",
       "      <td>0.103448</td>\n",
       "      <td>0.067961</td>\n",
       "      <td>0.057927</td>\n",
       "      <td>0.071429</td>\n",
       "    </tr>\n",
       "  </tbody>\n",
       "</table>\n",
       "</div>"
      ],
      "text/plain": [
       "     1         2         3         4         5\n",
       "0  0.3  0.310345  0.300971  0.384146  0.450549\n",
       "1  0.3  0.172414  0.242718  0.228659  0.197802\n",
       "2  0.2  0.172414  0.203883  0.198171  0.159341\n",
       "3  0.0  0.241379  0.184466  0.131098  0.120879\n",
       "4  0.2  0.103448  0.067961  0.057927  0.071429"
      ]
     },
     "execution_count": 165,
     "metadata": {},
     "output_type": "execute_result"
    },
    {
     "data": {
      "image/png": "[encoded data removed]",
      "text/plain": [
       "<Figure size 432x288 with 1 Axes>"
      ]
     },
     "metadata": {
      "needs_background": "light"
     },
     "output_type": "display_data"
    }
   ],
   "source": [
    "print('Dalc \\n')\n",
    "thing = []\n",
    "for i in range(0,5):\n",
    "    group_size1 = Walc2_pivot.iloc[i].sum() \n",
    "    print()\n",
    "    print('group size: %d'%group_size)\n",
    "    i_data =[]\n",
    "    for j in range(0,5):\n",
    "        group_size = Walc2_pivot.iloc[j].sum() \n",
    "        p = Walc2_pivot.iloc[i][j]/group_size1\n",
    "        i_data.append(Walc2_pivot.iloc[j][i]/group_size)\n",
    "        print('ratio for drink famrel %d to Drink %d: %.2f'%(i+1,j+1,p))\n",
    "    thing.append(i_data)\n",
    "wr_df = pd.DataFrame(data=thing,columns=[1,2,3,4,5])\n",
    " \n",
    "wr_df.plot()\n",
    "wr_df"
   ]
  },
  {
   "cell_type": "markdown",
   "id": "f761d4eb",
   "metadata": {},
   "source": [
    "from the ratio and graphs above we see that as family realations get better more the people tend to shift into the 1 and 2 drinking habits categories. this would suggest a correlation between the quality of a students family relations and their drinking habits. "
   ]
  }
 ],
 "metadata": {
  "kernelspec": {
   "display_name": "Python 3 (ipykernel)",
   "language": "python",
   "name": "python3"
  },
  "language_info": {
   "codemirror_mode": {
    "name": "ipython",
    "version": 3
   },
   "file_extension": ".py",
   "mimetype": "text/x-python",
   "name": "python",
   "nbconvert_exporter": "python",
   "pygments_lexer": "ipython3",
   "version": "3.8.12"
  }
 },
 "nbformat": 4,
 "nbformat_minor": 5
}
